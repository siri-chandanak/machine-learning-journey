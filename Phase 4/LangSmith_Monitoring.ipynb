{
 "cells": [
  {
   "cell_type": "code",
   "execution_count": 5,
   "id": "0e7b29d1-ecf9-421f-b143-7abea58c51eb",
   "metadata": {},
   "outputs": [
    {
     "name": "stdout",
     "output_type": "stream",
     "text": [
      "Requirement already satisfied: langsmith in c:\\users\\ksiri\\anaconda3\\envs\\genai\\lib\\site-packages (0.4.37)\n",
      "Requirement already satisfied: httpx<1,>=0.23.0 in c:\\users\\ksiri\\anaconda3\\envs\\genai\\lib\\site-packages (from langsmith) (0.28.1)\n",
      "Requirement already satisfied: orjson>=3.9.14 in c:\\users\\ksiri\\anaconda3\\envs\\genai\\lib\\site-packages (from langsmith) (3.11.3)\n",
      "Requirement already satisfied: packaging>=23.2 in c:\\users\\ksiri\\anaconda3\\envs\\genai\\lib\\site-packages (from langsmith) (25.0)\n",
      "Requirement already satisfied: pydantic<3,>=1 in c:\\users\\ksiri\\anaconda3\\envs\\genai\\lib\\site-packages (from langsmith) (2.12.2)\n",
      "Requirement already satisfied: requests-toolbelt>=1.0.0 in c:\\users\\ksiri\\anaconda3\\envs\\genai\\lib\\site-packages (from langsmith) (1.0.0)\n",
      "Requirement already satisfied: requests>=2.0.0 in c:\\users\\ksiri\\anaconda3\\envs\\genai\\lib\\site-packages (from langsmith) (2.32.5)\n",
      "Requirement already satisfied: zstandard>=0.23.0 in c:\\users\\ksiri\\anaconda3\\envs\\genai\\lib\\site-packages (from langsmith) (0.25.0)\n",
      "Requirement already satisfied: anyio in c:\\users\\ksiri\\anaconda3\\envs\\genai\\lib\\site-packages (from httpx<1,>=0.23.0->langsmith) (4.11.0)\n",
      "Requirement already satisfied: certifi in c:\\users\\ksiri\\anaconda3\\envs\\genai\\lib\\site-packages (from httpx<1,>=0.23.0->langsmith) (2025.10.5)\n",
      "Requirement already satisfied: httpcore==1.* in c:\\users\\ksiri\\anaconda3\\envs\\genai\\lib\\site-packages (from httpx<1,>=0.23.0->langsmith) (1.0.9)\n",
      "Requirement already satisfied: idna in c:\\users\\ksiri\\anaconda3\\envs\\genai\\lib\\site-packages (from httpx<1,>=0.23.0->langsmith) (3.11)\n",
      "Requirement already satisfied: h11>=0.16 in c:\\users\\ksiri\\anaconda3\\envs\\genai\\lib\\site-packages (from httpcore==1.*->httpx<1,>=0.23.0->langsmith) (0.16.0)\n",
      "Requirement already satisfied: annotated-types>=0.6.0 in c:\\users\\ksiri\\anaconda3\\envs\\genai\\lib\\site-packages (from pydantic<3,>=1->langsmith) (0.7.0)\n",
      "Requirement already satisfied: pydantic-core==2.41.4 in c:\\users\\ksiri\\anaconda3\\envs\\genai\\lib\\site-packages (from pydantic<3,>=1->langsmith) (2.41.4)\n",
      "Requirement already satisfied: typing-extensions>=4.14.1 in c:\\users\\ksiri\\anaconda3\\envs\\genai\\lib\\site-packages (from pydantic<3,>=1->langsmith) (4.15.0)\n",
      "Requirement already satisfied: typing-inspection>=0.4.2 in c:\\users\\ksiri\\anaconda3\\envs\\genai\\lib\\site-packages (from pydantic<3,>=1->langsmith) (0.4.2)\n",
      "Requirement already satisfied: charset_normalizer<4,>=2 in c:\\users\\ksiri\\anaconda3\\envs\\genai\\lib\\site-packages (from requests>=2.0.0->langsmith) (3.4.4)\n",
      "Requirement already satisfied: urllib3<3,>=1.21.1 in c:\\users\\ksiri\\anaconda3\\envs\\genai\\lib\\site-packages (from requests>=2.0.0->langsmith) (2.3.0)\n",
      "Requirement already satisfied: exceptiongroup>=1.0.2 in c:\\users\\ksiri\\anaconda3\\envs\\genai\\lib\\site-packages (from anyio->httpx<1,>=0.23.0->langsmith) (1.3.0)\n",
      "Requirement already satisfied: sniffio>=1.1 in c:\\users\\ksiri\\anaconda3\\envs\\genai\\lib\\site-packages (from anyio->httpx<1,>=0.23.0->langsmith) (1.3.1)\n"
     ]
    }
   ],
   "source": [
    "!pip install langsmith"
   ]
  },
  {
   "cell_type": "code",
   "execution_count": 2,
   "id": "0f67e965-fef2-42be-9e8f-36dfebf95f9e",
   "metadata": {},
   "outputs": [],
   "source": [
    "import os\n",
    "\n",
    "# Set your LangSmith API key\n",
    "os.environ[\"LANGSMITH_API_KEY\"] = \"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\"\n"
   ]
  },
  {
   "cell_type": "code",
   "execution_count": 25,
   "id": "df66df2b-a7c2-433b-8d5e-d94b69fae95e",
   "metadata": {},
   "outputs": [
    {
     "ename": "TypeError",
     "evalue": "'generator' object is not subscriptable",
     "output_type": "error",
     "traceback": [
      "\u001b[1;31m---------------------------------------------------------------------------\u001b[0m",
      "\u001b[1;31mTypeError\u001b[0m                                 Traceback (most recent call last)",
      "Cell \u001b[1;32mIn[25], line 9\u001b[0m\n\u001b[0;32m      6\u001b[0m recent_runs \u001b[38;5;241m=\u001b[39m client\u001b[38;5;241m.\u001b[39mlist_runs(limit\u001b[38;5;241m=\u001b[39m\u001b[38;5;241m5\u001b[39m)\n\u001b[0;32m      8\u001b[0m \u001b[38;5;66;03m# Pick the latest run\u001b[39;00m\n\u001b[1;32m----> 9\u001b[0m latest_run \u001b[38;5;241m=\u001b[39m \u001b[43mrecent_runs\u001b[49m\u001b[43m[\u001b[49m\u001b[38;5;241;43m0\u001b[39;49m\u001b[43m]\u001b[49m\n\u001b[0;32m     10\u001b[0m run_id \u001b[38;5;241m=\u001b[39m latest_run[\u001b[38;5;124m\"\u001b[39m\u001b[38;5;124mid\u001b[39m\u001b[38;5;124m\"\u001b[39m]\n",
      "\u001b[1;31mTypeError\u001b[0m: 'generator' object is not subscriptable"
     ]
    }
   ],
   "source": [
    "from langsmith import Client\n",
    "from langsmith.run_helpers import traceable\n",
    "\n",
    "# Initialize the client\n",
    "client = Client()\n",
    "recent_runs = client.list_runs(limit=5)\n",
    "\n",
    "# Pick the latest run\n",
    "latest_run = recent_runs[0]\n",
    "run_id = latest_run[\"id\"]"
   ]
  },
  {
   "cell_type": "code",
   "execution_count": 10,
   "id": "236e46c7-edea-4e3e-876f-d245bcf899d6",
   "metadata": {},
   "outputs": [],
   "source": [
    "# Replace with your actual API key\n",
    "client = Client(api_key=\"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\")\n"
   ]
  },
  {
   "cell_type": "code",
   "execution_count": 17,
   "id": "3d87d1fd-420e-43f6-bafe-0c2d239c1ea6",
   "metadata": {},
   "outputs": [
    {
     "data": {
      "text/plain": [
       "'Elon Musk'"
      ]
     },
     "execution_count": 17,
     "metadata": {},
     "output_type": "execute_result"
    }
   ],
   "source": [
    "# Example prompt and agent response\n",
    "prompt_text = \"Who is the CEO of Tesla?\"\n",
    "response_text = \"Elon Musk\"\n",
    "\n",
    "@traceable(name=\"QA_Agent_Run\", metadata={\"model\": \"GPT-4\", \"task\": \"QA\"})\n",
    "def qa_agent(prompt):\n",
    "    # Simulate agent response\n",
    "    return response_text\n",
    "\n",
    "# Call the function to log the run\n",
    "qa_agent(prompt_text)\n"
   ]
  },
  {
   "cell_type": "code",
   "execution_count": 21,
   "id": "e37ceaa0-0675-46a2-b9ea-15bca6c63127",
   "metadata": {},
   "outputs": [
    {
     "ename": "NameError",
     "evalue": "name 'run_id' is not defined",
     "output_type": "error",
     "traceback": [
      "\u001b[1;31m---------------------------------------------------------------------------\u001b[0m",
      "\u001b[1;31mNameError\u001b[0m                                 Traceback (most recent call last)",
      "Cell \u001b[1;32mIn[21], line 2\u001b[0m\n\u001b[0;32m      1\u001b[0m client\u001b[38;5;241m.\u001b[39mcreate_feedback(\n\u001b[1;32m----> 2\u001b[0m     run_id\u001b[38;5;241m=\u001b[39m\u001b[43mrun_id\u001b[49m,\n\u001b[0;32m      3\u001b[0m     key\u001b[38;5;241m=\u001b[39m\u001b[38;5;124m\"\u001b[39m\u001b[38;5;124mcorrectness\u001b[39m\u001b[38;5;124m\"\u001b[39m,\n\u001b[0;32m      4\u001b[0m     score\u001b[38;5;241m=\u001b[39m\u001b[38;5;241m5\u001b[39m,  \u001b[38;5;66;03m# 1 = poor, 5 = excellent\u001b[39;00m\n\u001b[0;32m      5\u001b[0m     value\u001b[38;5;241m=\u001b[39m\u001b[38;5;124m\"\u001b[39m\u001b[38;5;124mCorrect and relevant answer.\u001b[39m\u001b[38;5;124m\"\u001b[39m\n\u001b[0;32m      6\u001b[0m )\n\u001b[0;32m      8\u001b[0m \u001b[38;5;28mprint\u001b[39m(\u001b[38;5;124m\"\u001b[39m\u001b[38;5;124mFeedback submitted successfully for run ID:\u001b[39m\u001b[38;5;124m\"\u001b[39m, run_id)\n",
      "\u001b[1;31mNameError\u001b[0m: name 'run_id' is not defined"
     ]
    }
   ],
   "source": [
    "client.create_feedback(\n",
    "    run_id=run_id,\n",
    "    key=\"correctness\",\n",
    "    score=5,  # 1 = poor, 5 = excellent\n",
    "    value=\"Correct and relevant answer.\"\n",
    ")\n",
    "\n",
    "print(\"Feedback submitted successfully for run ID:\", run_id)"
   ]
  },
  {
   "cell_type": "code",
   "execution_count": 32,
   "id": "e0b915eb-b389-4440-a633-08166af39555",
   "metadata": {},
   "outputs": [
    {
     "name": "stdout",
     "output_type": "stream",
     "text": [
      "Latest run ID: 08d3f107-f66e-4ab5-97da-96aed14963ab\n"
     ]
    }
   ],
   "source": [
    "from langsmith import Client\n",
    "\n",
    "client = Client()\n",
    "\n",
    "# Replace with your project name in LangSmith\n",
    "project_name = \"default\"  # or your specific project name\n",
    "\n",
    "# list_runs now works\n",
    "recent_runs = list(client.list_runs(project_name=project_name, limit=5))\n",
    "\n",
    "if recent_runs:\n",
    "    latest_run = recent_runs[0]\n",
    "    run_id = latest_run.id\n",
    "    print(\"Latest run ID:\", run_id)\n",
    "else:\n",
    "    print(\"No runs found for this project.\")\n"
   ]
  },
  {
   "cell_type": "code",
   "execution_count": 33,
   "id": "868523c3-ba64-4da2-aedb-26a111080c90",
   "metadata": {},
   "outputs": [
    {
     "name": "stdout",
     "output_type": "stream",
     "text": [
      "Feedback submitted successfully for run ID: 08d3f107-f66e-4ab5-97da-96aed14963ab\n"
     ]
    }
   ],
   "source": [
    "\n",
    "# Feedback score must be 0.0–1.0\n",
    "client.create_feedback(\n",
    "    run_id=run_id,\n",
    "    key=\"correctness\",\n",
    "    score=1.0,  # 1.0 = excellent, 0.0 = poor\n",
    "    value=\"Correct and relevant answer.\"\n",
    ")\n",
    "\n",
    "print(\"Feedback submitted successfully for run ID:\", run_id)\n"
   ]
  },
  {
   "cell_type": "code",
   "execution_count": 37,
   "id": "d5b00d94-f827-4fc9-909b-d17e4ca34ddd",
   "metadata": {},
   "outputs": [
    {
     "name": "stdout",
     "output_type": "stream",
     "text": [
      "Run ID: 08d3f107-f66e-4ab5-97da-96aed14963ab\n",
      "Name: OpenAIFunctionsAgentOutputParser\n",
      "Metadata: {'custom-metadata-key': 'custom-metadata-value', 'revision_id': 'my-revision-id', 'ls_run_depth': 2}\n",
      "Status: success\n",
      "--------------------------------------------------\n",
      "Run ID: 22b0a08f-fc7d-46df-8051-9f25ebcaa543\n",
      "Name: ChatOpenAI\n",
      "Metadata: {'custom-metadata-key': 'custom-metadata-value', 'revision_id': 'my-revision-id', 'ls_run_depth': 2}\n",
      "Status: success\n",
      "--------------------------------------------------\n",
      "Run ID: f56df947-6260-416e-b670-b651ae5a94a0\n",
      "Name: ChatPromptTemplate\n",
      "Metadata: {'custom-metadata-key': 'custom-metadata-value', 'revision_id': 'my-revision-id', 'ls_run_depth': 2}\n",
      "Status: success\n",
      "--------------------------------------------------\n",
      "Run ID: 96505265-d5e6-4629-a5a1-d00be3bde99f\n",
      "Name: RunnableLambda\n",
      "Metadata: {'custom-metadata-key': 'custom-metadata-value', 'revision_id': 'my-revision-id', 'ls_run_depth': 3}\n",
      "Status: success\n",
      "--------------------------------------------------\n",
      "Run ID: 3e50ca9c-8dac-4471-b92d-8c4a0e933d22\n",
      "Name: RunnableMap\n",
      "Metadata: {'custom-metadata-key': 'custom-metadata-value', 'revision_id': 'my-revision-id', 'ls_run_depth': 2}\n",
      "Status: success\n",
      "--------------------------------------------------\n"
     ]
    }
   ],
   "source": [
    "recent_runs = list(client.list_runs(project_name=project_name, limit=5))\n",
    "\n",
    "for run in recent_runs:\n",
    "    print(f\"Run ID: {run.id}\")\n",
    "    print(f\"Name: {run.name}\")\n",
    "    print(f\"Metadata: {run.metadata}\")\n",
    "    print(f\"Status: {run.status}\")\n",
    "    print(\"-\" * 50)"
   ]
  },
  {
   "cell_type": "code",
   "execution_count": null,
   "id": "a0a37983-9494-4677-8e5b-2335b200d4eb",
   "metadata": {},
   "outputs": [],
   "source": []
  }
 ],
 "metadata": {
  "kernelspec": {
   "display_name": "Python 3 (ipykernel)",
   "language": "python",
   "name": "python3"
  },
  "language_info": {
   "codemirror_mode": {
    "name": "ipython",
    "version": 3
   },
   "file_extension": ".py",
   "mimetype": "text/x-python",
   "name": "python",
   "nbconvert_exporter": "python",
   "pygments_lexer": "ipython3",
   "version": "3.10.18"
  }
 },
 "nbformat": 4,
 "nbformat_minor": 5
}
