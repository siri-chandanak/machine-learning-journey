{
 "cells": [
  {
   "cell_type": "markdown",
   "id": "fb6e718e-946c-49c2-a779-3bf699d01ecd",
   "metadata": {},
   "source": [
    "# LangChain Agents — Building Intelligent Agentic AI Systems\n",
    "\n",
    "LangChain is a powerful framework for developing **Agentic AI systems** — intelligent agents that can reason, plan, and use external tools (APIs, databases, or knowledge sources) to complete tasks.\n",
    "\n",
    "In this notebook, we’ll learn:\n",
    "\n",
    "- What LangChain agents are  \n",
    "- The difference between Chains and Agents  \n",
    "- How to build an agent that uses tools to answer questions  \n",
    "- How to integrate memory and reasoning  \n",
    "\n",
    "---\n",
    "\n",
    "## 🔹 Prerequisites\n",
    "\n",
    "Before starting, install dependencies:"
   ]
  },
  {
   "cell_type": "code",
   "execution_count": 19,
   "id": "2a082e7b-4a59-4658-b0c6-ac40c5b4b951",
   "metadata": {},
   "outputs": [],
   "source": [
    "#!pip install langchain langchain-core langchain-community openai python-dotenv\n",
    "#!pip install faiss-cpu chromadb\n",
    "#!pip install google-search-results\n",
    "#!pip install numexpr"
   ]
  },
  {
   "cell_type": "code",
   "execution_count": 3,
   "id": "77bc2c0c-c4a0-4a7c-b912-535697447051",
   "metadata": {},
   "outputs": [],
   "source": [
    "OPENAI_API_KEY=\"your_openAPI_key\""
   ]
  },
  {
   "cell_type": "markdown",
   "id": "ad9a7a3b-b292-4dd1-8548-1deaef3f903b",
   "metadata": {},
   "source": [
    "## What Are Agents in LangChain?\n",
    "\n",
    "**Agents** are components in LangChain that use LLMs to make decisions and perform actions.\n",
    "\n",
    "- **Chains**: Sequential calls to LLMs or functions with fixed logic.  \n",
    "  Example: summarize → analyze → output.\n",
    "- **Agents**: More dynamic; they decide *which* tools to use, *when* to use them, and *in what order*.\n",
    "\n",
    "Agents use **LLMs as reasoning engines**, following this loop:\n",
    "1. Receive a task or query.\n",
    "2. Decide which tool to use.\n",
    "3. Execute the tool.\n",
    "4. Observe results.\n",
    "5. Repeat until the goal is achieved.\n",
    "\n",
    "Example use cases:\n",
    "- Question answering with APIs.\n",
    "- Data retrieval and summarization.\n",
    "- Workflow automation.\n"
   ]
  },
  {
   "cell_type": "code",
   "execution_count": 4,
   "id": "69519b29-971b-4172-bb47-993d8478cd73",
   "metadata": {},
   "outputs": [
    {
     "name": "stderr",
     "output_type": "stream",
     "text": [
      "C:\\Users\\ksiri\\AppData\\Local\\Temp\\ipykernel_18896\\984899035.py:12: LangChainDeprecationWarning: The class `OpenAI` was deprecated in LangChain 0.0.10 and will be removed in 1.0. An updated version of the class exists in the :class:`~langchain-openai package and should be used instead. To use it run `pip install -U :class:`~langchain-openai` and import as `from :class:`~langchain_openai import OpenAI``.\n",
      "  llm = LangChainOpenAI(temperature=0, openai_api_key=os.getenv(\"OPENAI_API_KEY\"))\n"
     ]
    },
    {
     "name": "stdout",
     "output_type": "stream",
     "text": [
      "✅ Environment set up successfully.\n"
     ]
    }
   ],
   "source": [
    "from langchain.agents import initialize_agent, load_tools\n",
    "from langchain.llms import OpenAI\n",
    "from langchain import OpenAI as LangChainOpenAI\n",
    "from langchain.utilities import SerpAPIWrapper\n",
    "import os\n",
    "from dotenv import load_dotenv\n",
    "\n",
    "# Load environment variables\n",
    "load_dotenv()\n",
    "\n",
    "# Initialize OpenAI LLM\n",
    "llm = LangChainOpenAI(temperature=0, openai_api_key=os.getenv(\"OPENAI_API_KEY\"))\n",
    "\n",
    "print(\"✅ Environment set up successfully.\")\n"
   ]
  },
  {
   "cell_type": "markdown",
   "id": "2a834ba5-5a77-4780-b7fa-932dfbc092b6",
   "metadata": {},
   "source": [
    "## Tools in LangChain\n",
    "\n",
    "Tools are external utilities that the agent can call to gather information or take actions.\n",
    "\n",
    "Common examples:\n",
    "- `SerpAPI` – search the web\n",
    "- `Python REPL` – run Python code\n",
    "- `Wikipedia` – access Wikipedia summaries\n",
    "- `Requests` – make HTTP calls\n",
    "\n",
    "Let’s load some simple tools for our agent to use.\n"
   ]
  },
  {
   "cell_type": "code",
   "execution_count": 6,
   "id": "73539ef2-b697-4d88-a406-aec4a371be4d",
   "metadata": {},
   "outputs": [],
   "source": [
    "import os\n",
    "os.environ[\"SERPAPI_API_KEY\"] = \"your_serpapi_api_key\""
   ]
  },
  {
   "cell_type": "code",
   "execution_count": 12,
   "id": "7c08ee42-d0d9-4e4b-b05e-96f0999fde5b",
   "metadata": {},
   "outputs": [
    {
     "name": "stdout",
     "output_type": "stream",
     "text": [
      "Available tools loaded:\n",
      " - Search\n",
      " - Calculator\n"
     ]
    }
   ],
   "source": [
    "tools = load_tools([\"serpapi\", \"llm-math\"], llm=llm)\n",
    "print(\"Available tools loaded:\")\n",
    "for t in tools:\n",
    "    print(f\" - {t.name}\")\n"
   ]
  },
  {
   "cell_type": "markdown",
   "id": "bda37911-b47d-4668-acb4-64bb76bcd9c6",
   "metadata": {},
   "source": [
    "## Creating a Simple LangChain Agent\n",
    "\n",
    "We’ll create a **zero-shot-react-description** agent — one of the most commonly used types.\n",
    "\n",
    "This means the LLM will:\n",
    "- React to the query\n",
    "- Choose tools as needed\n",
    "- Perform reasoning dynamically\n"
   ]
  },
  {
   "cell_type": "code",
   "execution_count": 13,
   "id": "7e16f1dd-6f67-45f3-adf2-6ac2597b0fde",
   "metadata": {},
   "outputs": [
    {
     "name": "stdout",
     "output_type": "stream",
     "text": [
      "✅ Agent initialized successfully.\n"
     ]
    },
    {
     "name": "stderr",
     "output_type": "stream",
     "text": [
      "C:\\Users\\ksiri\\AppData\\Local\\Temp\\ipykernel_18896\\186845124.py:1: LangChainDeprecationWarning: LangChain agents will continue to be supported, but it is recommended for new use cases to be built with LangGraph. LangGraph offers a more flexible and full-featured framework for building agents, including support for tool-calling, persistence of state, and human-in-the-loop workflows. For details, refer to the `LangGraph documentation <https://langchain-ai.github.io/langgraph/>`_ as well as guides for `Migrating from AgentExecutor <https://python.langchain.com/docs/how_to/migrate_agent/>`_ and LangGraph's `Pre-built ReAct agent <https://langchain-ai.github.io/langgraph/how-tos/create-react-agent/>`_.\n",
      "  agent = initialize_agent(\n"
     ]
    }
   ],
   "source": [
    "agent = initialize_agent(\n",
    "    tools,                # tools it can use\n",
    "    llm,                  # large language model\n",
    "    agent_type=\"zero-shot-react-description\",\n",
    "    verbose=True\n",
    ")\n",
    "print(\"✅ Agent initialized successfully.\")\n"
   ]
  },
  {
   "cell_type": "markdown",
   "id": "2a616c77-1e18-48e8-8fbc-8b3a602177b3",
   "metadata": {},
   "source": [
    "## Running the Agent\n",
    "\n",
    "Now, let’s test the agent by giving it a query that requires reasoning and tool usage.\n"
   ]
  },
  {
   "cell_type": "code",
   "execution_count": 14,
   "id": "326c736b-131b-4ad1-b3a8-46d963fb8f6c",
   "metadata": {},
   "outputs": [
    {
     "name": "stderr",
     "output_type": "stream",
     "text": [
      "C:\\Users\\ksiri\\AppData\\Local\\Temp\\ipykernel_18896\\200702749.py:2: LangChainDeprecationWarning: The method `Chain.run` was deprecated in langchain 0.1.0 and will be removed in 1.0. Use :meth:`~invoke` instead.\n",
      "  result = agent.run(query)\n"
     ]
    },
    {
     "name": "stdout",
     "output_type": "stream",
     "text": [
      "\n",
      "\n",
      "\u001b[1m> Entering new AgentExecutor chain...\u001b[0m\n",
      "\u001b[32;1m\u001b[1;3m I should use a calculator to find the square root.\n",
      "Action: Calculator\n",
      "Action Input: Square root of the population of France in 2023\u001b[0m\n",
      "Observation: \u001b[33;1m\u001b[1;3mAnswer: 8184.74190185616\u001b[0m\n",
      "Thought:\u001b[32;1m\u001b[1;3m I should double check this answer by searching for the population of France in 2023.\n",
      "Action: Search\n",
      "Action Input: Population of France in 2023\u001b[0m\n",
      "Observation: \u001b[36;1m\u001b[1;3m{'type': 'population_result', 'population': '68.29 million', 'year': '2023'}\u001b[0m\n",
      "Thought:\u001b[32;1m\u001b[1;3m I now know the final answer.\n",
      "Final Answer: The square root of the population of France in 2023 is approximately 8184.74190185616.\u001b[0m\n",
      "\n",
      "\u001b[1m> Finished chain.\u001b[0m\n",
      "\n",
      "💡 Agent Output:\n",
      "The square root of the population of France in 2023 is approximately 8184.74190185616.\n"
     ]
    }
   ],
   "source": [
    "query = \"What is the square root of the population of France in 2023?\"\n",
    "result = agent.run(query)\n",
    "print(\"\\n💡 Agent Output:\")\n",
    "print(result)\n"
   ]
  },
  {
   "cell_type": "markdown",
   "id": "6ef1fc1a-f6d4-45d2-8edb-42c07ae3463f",
   "metadata": {},
   "source": [
    "## Adding Memory to Agents\n",
    "\n",
    "LangChain provides memory modules that let agents **remember** past interactions.\n",
    "\n",
    "This helps in conversational or multi-step workflows."
   ]
  },
  {
   "cell_type": "code",
   "execution_count": 15,
   "id": "c7ecadd5-5207-44b9-81c1-8f97f6af5837",
   "metadata": {},
   "outputs": [
    {
     "name": "stderr",
     "output_type": "stream",
     "text": [
      "C:\\Users\\ksiri\\AppData\\Local\\Temp\\ipykernel_18896\\923805550.py:6: LangChainDeprecationWarning: Please see the migration guide at: https://python.langchain.com/docs/versions/migrating_memory/\n",
      "  memory = ConversationBufferMemory(memory_key=\"chat_history\")\n",
      "C:\\Users\\ksiri\\AppData\\Local\\Temp\\ipykernel_18896\\923805550.py:13: LangChainDeprecationWarning: The class `LLMChain` was deprecated in LangChain 0.1.17 and will be removed in 1.0. Use :meth:`~RunnableSequence, e.g., `prompt | llm`` instead.\n",
      "  conversation = LLMChain(\n"
     ]
    },
    {
     "name": "stdout",
     "output_type": "stream",
     "text": [
      "\n",
      "\n",
      "\u001b[1m> Entering new LLMChain chain...\u001b[0m\n",
      "Prompt after formatting:\n",
      "\u001b[32;1m\u001b[1;3mThis is a conversation. \n",
      "Human: Hello! I’m an AI agent.\n",
      "AI:\u001b[0m\n",
      "\n",
      "\u001b[1m> Finished chain.\u001b[0m\n",
      "\n",
      "\n",
      "\u001b[1m> Entering new LLMChain chain...\u001b[0m\n",
      "Prompt after formatting:\n",
      "\u001b[32;1m\u001b[1;3mThis is a conversation. Human: Hello! I’m an AI agent.\n",
      "AI:  Hi there! It's nice to meet you. How can I assist you?\n",
      "Human: Can you remind me what I just said?\n",
      "AI:\u001b[0m\n",
      "\n",
      "\u001b[1m> Finished chain.\u001b[0m\n"
     ]
    },
    {
     "data": {
      "text/plain": [
       "' Sure, you said \"Hello! I\\'m an AI agent.\" Is there anything else you would like me to remember?'"
      ]
     },
     "execution_count": 15,
     "metadata": {},
     "output_type": "execute_result"
    }
   ],
   "source": [
    "from langchain.memory import ConversationBufferMemory\n",
    "from langchain.chains import LLMChain\n",
    "from langchain.prompts import PromptTemplate\n",
    "\n",
    "# Define memory and prompt\n",
    "memory = ConversationBufferMemory(memory_key=\"chat_history\")\n",
    "prompt = PromptTemplate(\n",
    "    input_variables=[\"chat_history\", \"question\"],\n",
    "    template=\"This is a conversation. {chat_history}\\nHuman: {question}\\nAI:\"\n",
    ")\n",
    "\n",
    "# Create a conversational chain\n",
    "conversation = LLMChain(\n",
    "    llm=llm,\n",
    "    prompt=prompt,\n",
    "    memory=memory,\n",
    "    verbose=True\n",
    ")\n",
    "\n",
    "# Interact with memory\n",
    "conversation.run(\"Hello! I’m an AI agent.\")\n",
    "conversation.run(\"Can you remind me what I just said?\")\n"
   ]
  },
  {
   "cell_type": "markdown",
   "id": "9d3bd606-3dc8-457b-a5f7-a2cb4aa84f32",
   "metadata": {},
   "source": [
    "## Putting It All Together\n",
    "\n",
    "We can now create a **memory-enabled agent** that uses reasoning and tools dynamically.\n"
   ]
  },
  {
   "cell_type": "code",
   "execution_count": 16,
   "id": "c0070c45-c835-4499-af90-ada2447355a2",
   "metadata": {},
   "outputs": [
    {
     "name": "stdout",
     "output_type": "stream",
     "text": [
      "\n",
      "\n",
      "\u001b[1m> Entering new AgentExecutor chain...\u001b[0m\n",
      "\u001b[32;1m\u001b[1;3m I should use the search engine to find the answer.\n",
      "Action: Search\n",
      "Action Input: \"president of the United States\"\u001b[0m\n",
      "Observation: \u001b[36;1m\u001b[1;3mDonald Trump\u001b[0m\n",
      "Thought:\u001b[32;1m\u001b[1;3m I should double check to make sure this information is up to date.\n",
      "Action: Search\n",
      "Action Input: \"current president of the United States\"\u001b[0m\n",
      "Observation: \u001b[36;1m\u001b[1;3mDonald Trump\u001b[0m\n",
      "Thought:\u001b[32;1m\u001b[1;3m I should also check for any recent news articles about the president.\n",
      "Action: Search\n",
      "Action Input: \"Donald Trump news\"\u001b[0m\n",
      "Observation: \u001b[36;1m\u001b[1;3m[{'title': \"Trump tells Maria Bartiromo Democrats 'made one mistake' with government shutdown\", 'link': 'https://www.foxbusiness.com/politics/trump-tells-maria-bartiromo-democrats-made-one-mistake-government-shutdown', 'source': 'Fox Business', 'source_logo': 'https://serpapi.com/searches/68f235bad6eb72bab17799c9/images/a2ef906db6cd37c43b05c72840003b4f7b8218424a4af5d5c6aed2b57643a438.png', 'date': '2 hours ago', 'thumbnail': 'https://serpapi.com/searches/68f235bad6eb72bab17799c9/images/a2ef906db6cd37c4608f2b816eb258db002e4fcd77dfaf0c.jpeg'}, {'title': 'October 16, 2025 - Trump administration and government shutdown updates', 'link': 'https://www.cnn.com/politics/live-news/trump-government-shutdown-news-10-16-25', 'source': 'CNN', 'source_logo': 'https://serpapi.com/searches/68f235bad6eb72bab17799c9/images/a2ef906db6cd37c4411d3e378f7efb162f1f7571d3186226904dc52665ed714d.png', 'date': '9 hours ago', 'thumbnail': 'https://serpapi.com/searches/68f235bad6eb72bab17799c9/images/a2ef906db6cd37c4c9195bbd1ca719c4012d2209ae7a426a.jpeg'}, {'title': 'Trump’s Unilateral Spending Cuts Complicate Shutdown Deal', 'link': 'https://www.nytimes.com/2025/10/16/us/politics/trump-unilateral-spending-cuts-shutdown.html', 'source': 'The New York Times', 'source_logo': 'https://serpapi.com/searches/68f235bad6eb72bab17799c9/images/a2ef906db6cd37c49122f2c0e54d5c31a09fee0eed507a3eb706939520be257b.png', 'date': '17 hours ago', 'thumbnail': 'https://serpapi.com/searches/68f235bad6eb72bab17799c9/images/a2ef906db6cd37c41e84740290f61bb718907ef2241a75df.jpeg'}, {'title': \"Trump's granddaughter Kai downplays unusual nature of golfing with the President: 'It's nothing new'\", 'link': 'https://www.foxnews.com/sports/trumps-granddaughter-kai-downplays-unusual-nature-golfing-president-its-nothing-new', 'source': 'Fox News', 'source_logo': 'https://serpapi.com/searches/68f235bad6eb72bab17799c9/images/a2ef906db6cd37c4072f3d89cb8ac14ac5c32922c7b6eb153987e69ca1ecc868.png', 'date': '35 minutes ago', 'thumbnail': 'https://serpapi.com/searches/68f235bad6eb72bab17799c9/images/a2ef906db6cd37c4ae9911390d812c9e846cca81fbd65e52.jpeg'}, {'title': 'Trump signals hesitation on Tomahawk missiles ahead of Zelenskyy meeting', 'link': 'https://www.fox5dc.com/news/trump-signals-hesitation-tomahawk-missiles-ahead-zelenskyy-meeting', 'source': 'FOX 5 DC', 'source_logo': 'https://serpapi.com/searches/68f235bad6eb72bab17799c9/images/a2ef906db6cd37c4861867a76d262939107d227eca5131819d60da7756dba5df.png', 'date': '29 minutes ago', 'thumbnail': 'https://serpapi.com/searches/68f235bad6eb72bab17799c9/images/a2ef906db6cd37c42536423cbcb8470b751d317027cc21ec.jpeg'}]\u001b[0m\n",
      "Thought:\u001b[32;1m\u001b[1;3m Based on these recent news articles, it seems like Donald Trump is still the current president of the United States.\n",
      "Final Answer: Donald Trump\u001b[0m\n",
      "\n",
      "\u001b[1m> Finished chain.\u001b[0m\n",
      "\n",
      "🔹 Response: Donald Trump\n",
      "\n",
      "\n",
      "\u001b[1m> Entering new AgentExecutor chain...\u001b[0m\n",
      "\u001b[32;1m\u001b[1;3m I should use a search engine to find information about this person's term.\n",
      "Action: Search\n",
      "Action Input: \"year he started his term\"\u001b[0m\n",
      "Observation: \u001b[36;1m\u001b[1;3m['The incumbent president is Donald Trump, who assumed office on January 20, 2025. ... Since the office was established in 1789, 45 men have served in 47 ...', 'GEORGE WASHINGTON | 1789-1797 · JOHN ADAMS | 1797-1801 · THOMAS JEFFERSON | 1801-1809 · JAMES MADISON | 1809-1817 · JAMES MONROE | 1817-1825 · JOHN QUINCY ADAMS | ...', \"Donald Trump's first tenure as the president of the United States began on January 20, 2017, when Trump was inaugurated as the 45th president, ...\", 'Amendment Twenty-two to the Constitution was ratified on February 27, 1951. It establishes term limits on those elected president.', '(i) Prior to 1937, the terms of President and Vice President of the United States began and ended at noon on March 4. ... However, the 20th amendment to the U.S. ...', 'Jesus is, according the math, 2,025 years old and he will turn 2,026 years old on December 25 of this year a week before 2026 begins. The year ...', 'FDR was first inaugurated as 32nd President on March 4, 1933. The date of March 4 was set by the 12th Amendment to the U.S. Constitution. Effective in 1937, ...', 'On November 8, 2016, Trump was elected to his first term as President, defeating former First Lady and Secretary of State Hillary Clinton. He was inaugurated as ...', \"Clinton, Trump and GWB were all born within a couple months of each other in '46. One of my favorite bits of Prez trivia.\", 'Numbering of Executive Orders began in 1907 by the Department of State, which assigned numbers to all the orders in their files, dating from 1862 (Lord 1944, ...']\u001b[0m\n",
      "Thought:\u001b[32;1m\u001b[1;3m I should use a calculator to determine the exact year.\n",
      "Action: Calculator\n",
      "Action Input: 2025 - 4\u001b[0m\n",
      "Observation: \u001b[33;1m\u001b[1;3mAnswer: 2021\u001b[0m\n",
      "Thought:\u001b[32;1m\u001b[1;3m I should double check my answer using a search engine.\n",
      "Action: Search\n",
      "Action Input: \"Donald Trump's first term\"\u001b[0m\n",
      "Observation: \u001b[36;1m\u001b[1;3mDonald Trump's first tenure as the president of the United States began on January 20, 2017, when Trump was inaugurated as the 45th president, and ended on January 20, 2021.\u001b[0m\n",
      "Thought:\u001b[32;1m\u001b[1;3m I now know the final answer.\n",
      "Final Answer: 2021\u001b[0m\n",
      "\n",
      "\u001b[1m> Finished chain.\u001b[0m\n",
      "\n",
      "🔹 Response: 2021\n"
     ]
    }
   ],
   "source": [
    "from langchain.agents import AgentType\n",
    "\n",
    "memory = ConversationBufferMemory(memory_key=\"chat_history\")\n",
    "\n",
    "agent_with_memory = initialize_agent(\n",
    "    tools,\n",
    "    llm,\n",
    "    agent_type=AgentType.CHAT_CONVERSATIONAL_REACT_DESCRIPTION,\n",
    "    memory=memory,\n",
    "    verbose=True\n",
    ")\n",
    "\n",
    "response = agent_with_memory.run(\"Hi! Can you tell me who is the president of the United States?\")\n",
    "print(\"\\n🔹 Response:\", response)\n",
    "\n",
    "response = agent_with_memory.run(\"And what year did he start his term?\")\n",
    "print(\"\\n🔹 Response:\", response)\n"
   ]
  },
  {
   "cell_type": "markdown",
   "id": "c03095bb-2df4-4fa6-a65d-5f1a0c94f18e",
   "metadata": {},
   "source": [
    "## Summary\n",
    "\n",
    "In this notebook, we learned how to:\n",
    "- Set up LangChain and an OpenAI LLM\n",
    "- Create and use tools within an agent\n",
    "- Build a **reactive reasoning agent**\n",
    "- Add **memory** for context-aware interactions\n",
    "\n",
    "### Key Takeaways\n",
    "- **Agents** make decisions dynamically — unlike chains, which are static.\n",
    "- **Tools** let LLMs access external data sources.\n",
    "- **Memory** gives agents contextual awareness across interactions.\n",
    "- LangChain makes it easy to combine reasoning + tools + memory for advanced **Agentic AI** behavior.\n",
    "\n",
    "Next step: Explore **LangSmith** for evaluation and monitoring of agents.\n"
   ]
  },
  {
   "cell_type": "code",
   "execution_count": null,
   "id": "ae812cc5-c8cd-40a0-9c02-206c78e64de8",
   "metadata": {},
   "outputs": [],
   "source": []
  }
 ],
 "metadata": {
  "kernelspec": {
   "display_name": "Python 3 (ipykernel)",
   "language": "python",
   "name": "python3"
  },
  "language_info": {
   "codemirror_mode": {
    "name": "ipython",
    "version": 3
   },
   "file_extension": ".py",
   "mimetype": "text/x-python",
   "name": "python",
   "nbconvert_exporter": "python",
   "pygments_lexer": "ipython3",
   "version": "3.10.18"
  }
 },
 "nbformat": 4,
 "nbformat_minor": 5
}
