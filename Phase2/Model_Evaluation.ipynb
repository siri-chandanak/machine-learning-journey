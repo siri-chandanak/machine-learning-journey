{
 "cells": [
  {
   "cell_type": "markdown",
   "id": "b75e78ef-56d5-4778-b9d9-eb40d224e686",
   "metadata": {},
   "source": [
    "# Model Evaluation in Machine Learning\n",
    "\n",
    "**Objective:**  \n",
    "In this notebook, we will learn how to **evaluate the performance of machine learning models** using various metrics for **classification and regression tasks**.  \n",
    "We will cover:  \n",
    "- Train/Test Split & Cross-Validation  \n",
    "- Evaluation metrics for Regression  \n",
    "- Evaluation metrics for Classification  \n",
    "- Confusion Matrix, ROC & AUC  \n",
    "- Hyperparameter tuning impact on model performance\n"
   ]
  },
  {
   "cell_type": "markdown",
   "id": "6c2dbc3f-6bce-46e0-9b06-2bf2ec9267a1",
   "metadata": {},
   "source": [
    "## Dataset Overview\n",
    "\n",
    "We will use the **Titanic dataset** for classification (survival prediction) and the **Boston Housing dataset** for regression (house price prediction).\n",
    "\n",
    "**Titanic Dataset Features:**  \n",
    "- PassengerId, Pclass, Name, Sex, Age, SibSp, Parch, Ticket, Fare, Cabin, Embarked  \n",
    "- Target: `Survived` (0 = Not Survived, 1 = Survived)\n",
    "\n",
    "**Boston Housing Dataset Features:**  \n",
    "- CRIM, ZN, INDUS, CHAS, NOX, RM, AGE, DIS, RAD, TAX, PTRATIO, B, LSTAT  \n",
    "- Target: `MEDV` (Median house value)\n"
   ]
  },
  {
   "cell_type": "code",
   "execution_count": 4,
   "id": "6f082df3-8c50-4b2f-b226-cb69b599e835",
   "metadata": {},
   "outputs": [],
   "source": [
    "# General Libraries\n",
    "import numpy as np\n",
    "import pandas as pd\n",
    "import matplotlib.pyplot as plt\n",
    "import seaborn as sns\n",
    "\n",
    "# Machine Learning Libraries\n",
    "from sklearn.model_selection import train_test_split, cross_val_score, GridSearchCV\n",
    "from sklearn.metrics import accuracy_score, precision_score, recall_score, f1_score, roc_curve, roc_auc_score\n",
    "from sklearn.metrics import mean_squared_error, mean_absolute_error, r2_score, confusion_matrix, classification_report\n",
    "\n",
    "# Models\n",
    "from sklearn.linear_model import LogisticRegression, LinearRegression\n",
    "from sklearn.ensemble import RandomForestClassifier, RandomForestRegressor\n",
    "from sklearn.preprocessing import StandardScaler, LabelEncoder\n",
    "import warnings\n",
    "warnings.filterwarnings(\"ignore\")"
   ]
  },
  {
   "cell_type": "markdown",
   "id": "60b83f90-34ca-4ccb-bc71-fea35f59884f",
   "metadata": {},
   "source": [
    "## Train/Test Split\n",
    "\n",
    "Before evaluating a model, we need to **split the data into training and testing sets**.  \n",
    "- Training set: Used to train the model  \n",
    "- Test set: Used to evaluate model performance on unseen data  \n",
    "\n",
    "We use `train_test_split` from scikit-learn.\n"
   ]
  },
  {
   "cell_type": "code",
   "execution_count": 5,
   "id": "c60f3516-7737-47e4-8a15-c19616a6b3a2",
   "metadata": {},
   "outputs": [
    {
     "name": "stdout",
     "output_type": "stream",
     "text": [
      "Training set size: (712, 8)\n",
      "Test set size: (179, 8)\n"
     ]
    }
   ],
   "source": [
    "# Load Titanic Dataset\n",
    "url = \"https://raw.githubusercontent.com/datasciencedojo/datasets/master/titanic.csv\"\n",
    "titanic = pd.read_csv(url)\n",
    "\n",
    "# Basic preprocessing\n",
    "titanic['Age'].fillna(titanic['Age'].median(), inplace=True)\n",
    "titanic['Embarked'].fillna('S', inplace=True)\n",
    "titanic['Sex'] = LabelEncoder().fit_transform(titanic['Sex'])\n",
    "titanic = pd.get_dummies(titanic, columns=['Embarked'], drop_first=True)\n",
    "\n",
    "# Features and target\n",
    "X = titanic[['Pclass', 'Sex', 'Age', 'SibSp', 'Parch', 'Fare', 'Embarked_Q', 'Embarked_S']]\n",
    "y = titanic['Survived']\n",
    "\n",
    "# Train/Test split\n",
    "X_train, X_test, y_train, y_test = train_test_split(X, y, test_size=0.2, random_state=42)\n",
    "print(\"Training set size:\", X_train.shape)\n",
    "print(\"Test set size:\", X_test.shape)\n"
   ]
  },
  {
   "cell_type": "markdown",
   "id": "c2b0e2b2-a2f3-4732-9b37-0fe647f65b6b",
   "metadata": {},
   "source": [
    "## Classification Model: Logistic Regression & Random Forest\n",
    "\n",
    "We will train two classifiers:\n",
    "1. Logistic Regression  \n",
    "2. Random Forest Classifier  \n",
    "\n",
    "Then we will evaluate their performance using **accuracy, precision, recall, F1-score, and ROC-AUC**.\n"
   ]
  },
  {
   "cell_type": "code",
   "execution_count": 6,
   "id": "ea442d12-7a89-47fd-b3ab-d881abb70334",
   "metadata": {},
   "outputs": [
    {
     "name": "stdout",
     "output_type": "stream",
     "text": [
      "Accuracy: 0.8100558659217877\n",
      "Precision: 0.7857142857142857\n",
      "Recall: 0.7432432432432432\n",
      "F1 Score: 0.7638888888888888\n"
     ]
    }
   ],
   "source": [
    "# Logistic Regression\n",
    "log_model = LogisticRegression(max_iter=1000)\n",
    "log_model.fit(X_train, y_train)\n",
    "\n",
    "# Predictions\n",
    "y_pred_log = log_model.predict(X_test)\n",
    "\n",
    "# Evaluation\n",
    "print(\"Accuracy:\", accuracy_score(y_test, y_pred_log))\n",
    "print(\"Precision:\", precision_score(y_test, y_pred_log))\n",
    "print(\"Recall:\", recall_score(y_test, y_pred_log))\n",
    "print(\"F1 Score:\", f1_score(y_test, y_pred_log))\n"
   ]
  },
  {
   "cell_type": "code",
   "execution_count": 7,
   "id": "9e348b60-4ed0-4505-8caf-0d08737d2664",
   "metadata": {},
   "outputs": [
    {
     "data": {
      "image/png": "[encoded data removed]",
      "text/plain": [
       "<Figure size 640x480 with 2 Axes>"
      ]
     },
     "metadata": {},
     "output_type": "display_data"
    },
    {
     "name": "stdout",
     "output_type": "stream",
     "text": [
      "Classification Report:\n",
      "               precision    recall  f1-score   support\n",
      "\n",
      "           0       0.83      0.86      0.84       105\n",
      "           1       0.79      0.74      0.76        74\n",
      "\n",
      "    accuracy                           0.81       179\n",
      "   macro avg       0.81      0.80      0.80       179\n",
      "weighted avg       0.81      0.81      0.81       179\n",
      "\n"
     ]
    }
   ],
   "source": [
    "# Confusion Matrix\n",
    "cm = confusion_matrix(y_test, y_pred_log)\n",
    "sns.heatmap(cm, annot=True, fmt='d', cmap='Blues')\n",
    "plt.xlabel('Predicted')\n",
    "plt.ylabel('Actual')\n",
    "plt.title('Logistic Regression Confusion Matrix')\n",
    "plt.show()\n",
    "\n",
    "# Classification Report\n",
    "print(\"Classification Report:\\n\", classification_report(y_test, y_pred_log))\n"
   ]
  },
  {
   "cell_type": "code",
   "execution_count": 8,
   "id": "c705663e-5d65-4dbb-b899-13b12e5e9bec",
   "metadata": {},
   "outputs": [
    {
     "data": {
      "image/png": "[encoded data removed]",
      "text/plain": [
       "<Figure size 640x480 with 1 Axes>"
      ]
     },
     "metadata": {},
     "output_type": "display_data"
    }
   ],
   "source": [
    "# ROC Curve\n",
    "y_prob_log = log_model.predict_proba(X_test)[:,1]\n",
    "fpr, tpr, thresholds = roc_curve(y_test, y_prob_log)\n",
    "auc_score = roc_auc_score(y_test, y_prob_log)\n",
    "\n",
    "plt.plot(fpr, tpr, label=f\"AUC = {auc_score:.2f}\")\n",
    "plt.plot([0,1],[0,1],'k--')\n",
    "plt.xlabel('False Positive Rate')\n",
    "plt.ylabel('True Positive Rate')\n",
    "plt.title('ROC Curve - Logistic Regression')\n",
    "plt.legend()\n",
    "plt.show()\n"
   ]
  },
  {
   "cell_type": "markdown",
   "id": "c06696c1-f7b0-4115-a1e5-c5547524858e",
   "metadata": {},
   "source": [
    "## Regression Model: Linear Regression & Random Forest Regressor\n",
    "\n",
    "We will use the **Boston Housing dataset** to predict house prices (`MEDV`).  \n",
    "Evaluation metrics include:  \n",
    "- Mean Squared Error (MSE)  \n",
    "- Root Mean Squared Error (RMSE)  \n",
    "- Mean Absolute Error (MAE)  \n",
    "- R² Score\n"
   ]
  },
  {
   "cell_type": "code",
   "execution_count": 10,
   "id": "a4902d0c-132a-4a9d-b5ff-701977ccd25d",
   "metadata": {},
   "outputs": [
    {
     "name": "stdout",
     "output_type": "stream",
     "text": [
      "Features shape: (16512, 8)\n",
      "Target shape: (16512,)\n"
     ]
    }
   ],
   "source": [
    "from sklearn.datasets import fetch_california_housing\n",
    "\n",
    "# Load dataset\n",
    "housing = fetch_california_housing(as_frame=True)\n",
    "X_b = housing.data\n",
    "y_b = housing.target\n",
    "\n",
    "# Train/Test split\n",
    "from sklearn.model_selection import train_test_split\n",
    "X_train_b, X_test_b, y_train_b, y_test_b = train_test_split(X_b, y_b, test_size=0.2, random_state=42)\n",
    "\n",
    "print(\"Features shape:\", X_train_b.shape)\n",
    "print(\"Target shape:\", y_train_b.shape)\n"
   ]
  },
  {
   "cell_type": "code",
   "execution_count": 11,
   "id": "11784ec5-4f19-4dec-81b4-a457579a2eb5",
   "metadata": {},
   "outputs": [
    {
     "name": "stdout",
     "output_type": "stream",
     "text": [
      "MSE: 0.56, RMSE: 0.75, MAE: 0.53, R2 Score: 0.58\n"
     ]
    }
   ],
   "source": [
    "from sklearn.linear_model import LinearRegression\n",
    "from sklearn.metrics import mean_squared_error, mean_absolute_error, r2_score\n",
    "import numpy as np\n",
    "\n",
    "# Train model\n",
    "lin_model = LinearRegression()\n",
    "lin_model.fit(X_train_b, y_train_b)\n",
    "\n",
    "# Predictions\n",
    "y_pred_lin = lin_model.predict(X_test_b)\n",
    "\n",
    "# Evaluation\n",
    "mse = mean_squared_error(y_test_b, y_pred_lin)\n",
    "rmse = np.sqrt(mse)\n",
    "mae = mean_absolute_error(y_test_b, y_pred_lin)\n",
    "r2 = r2_score(y_test_b, y_pred_lin)\n",
    "\n",
    "print(f\"MSE: {mse:.2f}, RMSE: {rmse:.2f}, MAE: {mae:.2f}, R2 Score: {r2:.2f}\")\n"
   ]
  },
  {
   "cell_type": "code",
   "execution_count": 12,
   "id": "68515efd-4d6e-4944-894f-9309a9e15c73",
   "metadata": {},
   "outputs": [
    {
     "name": "stdout",
     "output_type": "stream",
     "text": [
      "Random Forest - MSE: 0.26, RMSE: 0.51, MAE: 0.33, R2 Score: 0.81\n"
     ]
    }
   ],
   "source": [
    "from sklearn.ensemble import RandomForestRegressor\n",
    "\n",
    "rf_model = RandomForestRegressor(n_estimators=100, random_state=42)\n",
    "rf_model.fit(X_train_b, y_train_b)\n",
    "\n",
    "y_pred_rf = rf_model.predict(X_test_b)\n",
    "\n",
    "# Evaluation\n",
    "mse_rf = mean_squared_error(y_test_b, y_pred_rf)\n",
    "rmse_rf = np.sqrt(mse_rf)\n",
    "mae_rf = mean_absolute_error(y_test_b, y_pred_rf)\n",
    "r2_rf = r2_score(y_test_b, y_pred_rf)\n",
    "\n",
    "print(f\"Random Forest - MSE: {mse_rf:.2f}, RMSE: {rmse_rf:.2f}, MAE: {mae_rf:.2f}, R2 Score: {r2_rf:.2f}\")\n"
   ]
  },
  {
   "cell_type": "markdown",
   "id": "a2f4ca2a-b34a-49c3-8477-820fd7c50513",
   "metadata": {},
   "source": [
    "## Cross-Validation & Hyperparameter Tuning\n",
    "\n",
    "- Cross-validation helps **evaluate model stability** on different subsets of data  \n",
    "- Hyperparameter tuning (GridSearchCV) helps find **optimal model parameters**\n",
    "\n",
    "We will demonstrate using Random Forest Classifier on Titanic dataset.\n"
   ]
  },
  {
   "cell_type": "code",
   "execution_count": 13,
   "id": "83dfc646-f35b-43a8-af7b-d6de16e2fffb",
   "metadata": {},
   "outputs": [
    {
     "name": "stdout",
     "output_type": "stream",
     "text": [
      "Best Parameters: {'max_depth': 5, 'min_samples_split': 2, 'n_estimators': 100}\n",
      "Best Cross-Validation Accuracy: 0.8314094356347876\n",
      "Test Accuracy: 0.8156424581005587\n"
     ]
    }
   ],
   "source": [
    "param_grid = {\n",
    "    'n_estimators': [50, 100, 200],\n",
    "    'max_depth': [None, 5, 10],\n",
    "    'min_samples_split': [2, 5]\n",
    "}\n",
    "\n",
    "grid = GridSearchCV(RandomForestClassifier(random_state=42), param_grid, cv=5, scoring='accuracy')\n",
    "grid.fit(X_train, y_train)\n",
    "\n",
    "print(\"Best Parameters:\", grid.best_params_)\n",
    "print(\"Best Cross-Validation Accuracy:\", grid.best_score_)\n",
    "\n",
    "# Evaluate on test set\n",
    "y_pred_grid = grid.predict(X_test)\n",
    "print(\"Test Accuracy:\", accuracy_score(y_test, y_pred_grid))\n"
   ]
  },
  {
   "cell_type": "markdown",
   "id": "31b2b456-7efb-4dd1-8585-33ed91ccfba1",
   "metadata": {},
   "source": [
    "# Summary\n",
    "\n",
    "In this notebook, we have learned how to:\n",
    "\n",
    "- Split datasets into training and testing sets\n",
    "- Train classification and regression models\n",
    "- Evaluate classification models using **Accuracy, Precision, Recall, F1, Confusion Matrix, ROC-AUC**\n",
    "- Evaluate regression models using **MSE, RMSE, MAE, R² Score**\n",
    "- Apply **cross-validation and hyperparameter tuning** to improve model performance\n",
    "\n",
    "These concepts are **essential for real-world ML pipelines**, as robust evaluation ensures models perform reliably on unseen data.\n"
   ]
  },
  {
   "cell_type": "code",
   "execution_count": null,
   "id": "3b6173b4-a8af-44df-8430-ef3694d9a7ea",
   "metadata": {},
   "outputs": [],
   "source": []
  }
 ],
 "metadata": {
  "kernelspec": {
   "display_name": "Python 3 (ipykernel)",
   "language": "python",
   "name": "python3"
  },
  "language_info": {
   "codemirror_mode": {
    "name": "ipython",
    "version": 3
   },
   "file_extension": ".py",
   "mimetype": "text/x-python",
   "name": "python",
   "nbconvert_exporter": "python",
   "pygments_lexer": "ipython3",
   "version": "3.12.7"
  }
 },
 "nbformat": 4,
 "nbformat_minor": 5
}
