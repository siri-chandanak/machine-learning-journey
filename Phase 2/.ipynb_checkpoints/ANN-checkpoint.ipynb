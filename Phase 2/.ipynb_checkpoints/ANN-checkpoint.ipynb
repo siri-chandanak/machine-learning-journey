{
 "cells": [
  {
   "cell_type": "markdown",
   "id": "462ec301-f487-45d3-8edd-919d874136a6",
   "metadata": {},
   "source": [
    "# Artificial Neural Networks (ANN)\n",
    "\n",
    "**Objective:**  \n",
    "Learn the fundamentals of Artificial Neural Networks (ANN), including the architecture, forward pass, backpropagation, activation functions, and training using Python and TensorFlow/PyTorch.\n"
   ]
  },
  {
   "cell_type": "markdown",
   "id": "3d203d8e-43d6-4185-b2e8-fd5d66deef35",
   "metadata": {},
   "source": [
    "## Introduction\n",
    "\n",
    "Artificial Neural Networks (ANN) are computing systems inspired by the biological neural networks of the brain.  \n",
    "They consist of **layers of interconnected nodes (neurons)** that process input data to predict outputs.\n",
    "\n",
    "### Key Concepts:\n",
    "- **Neuron:** Basic unit of ANN, applies a weighted sum of inputs followed by an activation function.\n",
    "- **Layers:** \n",
    "  - Input layer\n",
    "  - Hidden layers\n",
    "  - Output layer\n",
    "- **Weights & Biases:** Parameters adjusted during training.\n",
    "- **Activation Functions:** Non-linear functions such as ReLU, Sigmoid, Tanh.\n",
    "- **Loss Function:** Measures how far predictions are from actual labels.\n",
    "- **Optimization:** Gradient Descent is used to minimize the loss.\n"
   ]
  },
  {
   "cell_type": "markdown",
   "id": "19416040-8022-45cf-9144-c86d856128a7",
   "metadata": {},
   "source": [
    "## Forward Pass\n",
    "\n",
    "- The **forward pass** computes the output of the network given input data.\n",
    "- Formula for a single neuron: \n",
    "\n",
    "\\[\n",
    "$ y = f(\\sum_{i} (w_i \\cdot x_i) + b) $\n",
    "\\]\n",
    "\n",
    "Where:  \n",
    "- \\(x_i\\) = input features  \n",
    "- \\(w_i\\) = weights  \n",
    "- \\(b\\) = bias  \n",
    "- \\(f\\) = activation function\n"
   ]
  },
  {
   "cell_type": "code",
   "execution_count": null,
   "id": "e9763560-7c02-436a-a60c-c25df6571e50",
   "metadata": {},
   "outputs": [],
   "source": []
  }
 ],
 "metadata": {
  "kernelspec": {
   "display_name": "Python 3 (ipykernel)",
   "language": "python",
   "name": "python3"
  },
  "language_info": {
   "codemirror_mode": {
    "name": "ipython",
    "version": 3
   },
   "file_extension": ".py",
   "mimetype": "text/x-python",
   "name": "python",
   "nbconvert_exporter": "python",
   "pygments_lexer": "ipython3",
   "version": "3.12.7"
  }
 },
 "nbformat": 4,
 "nbformat_minor": 5
}
