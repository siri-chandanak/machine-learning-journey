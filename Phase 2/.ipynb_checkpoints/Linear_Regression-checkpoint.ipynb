{
 "cells": [
  {
   "cell_type": "markdown",
   "id": "46dd5c21-b0ec-45e6-bc1d-3a8498f4ff79",
   "metadata": {},
   "source": [
    "# Linear Regression — Hands-On Guide\n",
    "\n",
    "## Objective\n",
    "This notebook covers **Linear Regression**, one of the most fundamental algorithms in Machine Learning.  \n",
    "You will learn:\n",
    "\n",
    "1. The concept and mathematics behind Linear Regression  \n",
    "2. How to implement it using **Scikit-learn**  \n",
    "3. How to visualize predictions  \n",
    "4. How to evaluate model performance  \n",
    "\n",
    "---\n",
    "\n",
    "## What is Linear Regression?\n",
    "\n",
    "Linear Regression models the relationship between **dependent variable (target)** and one or more **independent variables (features)** using a straight line.\n",
    "\n",
    "**Equation (Simple Linear Regression):**\n",
    "\\[\n",
    "y = m \\cdot x + b\n",
    "\\]\n",
    "\n",
    "Where:  \n",
    "- \\( y \\): Target variable  \n",
    "- \\( x \\): Feature (input variable)  \n",
    "- \\( m \\): Slope (coefficient)  \n",
    "- \\( b \\): Intercept (bias)\n",
    "\n",
    "Goal → Find best-fit line that minimizes the **Mean Squared Error (MSE)** between predicted and actual values.\n",
    "\n",
    "---\n",
    "\n",
    "## Libraries Used\n",
    "- `numpy` — for numerical computations  \n",
    "- `pandas` — for data manipulation  \n",
    "- `matplotlib` / `seaborn` — for visualization  \n",
    "- `sklearn.linear_model` — for Linear Regression  \n",
    "- `sklearn.metrics` — for model evaluation  \n"
   ]
  },
  {
   "cell_type": "code",
   "execution_count": 1,
   "id": "5547d48c-3fcd-42a8-8562-6b9c0d006a71",
   "metadata": {},
   "outputs": [],
   "source": [
    "# Import necessary libraries\n",
    "import numpy as np\n",
    "import pandas as pd\n",
    "import matplotlib.pyplot as plt\n",
    "import seaborn as sns\n",
    "from sklearn.model_selection import train_test_split\n",
    "from sklearn.linear_model import LinearRegression\n",
    "from sklearn.metrics import mean_squared_error, r2_score\n",
    "\n",
    "# Set style\n",
    "sns.set(style=\"whitegrid\", palette=\"pastel\")\n"
   ]
  },
  {
   "cell_type": "markdown",
   "id": "85779c31-8159-4287-9857-1316ff5081e3",
   "metadata": {},
   "source": [
    "## Dataset\n",
    "\n",
    "We’ll use a **synthetic dataset** that simulates a relationship between:\n",
    "- `Experience (years)` — independent variable (X)\n",
    "- `Salary ($)` — dependent variable (y)\n",
    "\n",
    "This helps visualize how regression fits a line to predict salary based on years of experience.\n"
   ]
  },
  {
   "cell_type": "code",
   "execution_count": 3,
   "id": "227c9d59-96cb-4a52-9263-96af8f2c94b2",
   "metadata": {},
   "outputs": [
    {
     "data": {
      "text/html": [
       "<div>\n",
       "<style scoped>\n",
       "    .dataframe tbody tr th:only-of-type {\n",
       "        vertical-align: middle;\n",
       "    }\n",
       "\n",
       "    .dataframe tbody tr th {\n",
       "        vertical-align: top;\n",
       "    }\n",
       "\n",
       "    .dataframe thead th {\n",
       "        text-align: right;\n",
       "    }\n",
       "</style>\n",
       "<table border=\"1\" class=\"dataframe\">\n",
       "  <thead>\n",
       "    <tr style=\"text-align: right;\">\n",
       "      <th></th>\n",
       "      <th>Experience (Years)</th>\n",
       "      <th>Salary ($)</th>\n",
       "    </tr>\n",
       "  </thead>\n",
       "  <tbody>\n",
       "    <tr>\n",
       "      <th>0</th>\n",
       "      <td>4.370861</td>\n",
       "      <td>33881.018994</td>\n",
       "    </tr>\n",
       "    <tr>\n",
       "      <th>1</th>\n",
       "      <td>9.556429</td>\n",
       "      <td>44576.545019</td>\n",
       "    </tr>\n",
       "    <tr>\n",
       "      <th>2</th>\n",
       "      <td>7.587945</td>\n",
       "      <td>38507.270561</td>\n",
       "    </tr>\n",
       "    <tr>\n",
       "      <th>3</th>\n",
       "      <td>6.387926</td>\n",
       "      <td>34765.401112</td>\n",
       "    </tr>\n",
       "    <tr>\n",
       "      <th>4</th>\n",
       "      <td>2.404168</td>\n",
       "      <td>20096.331448</td>\n",
       "    </tr>\n",
       "  </tbody>\n",
       "</table>\n",
       "</div>"
      ],
      "text/plain": [
       "   Experience (Years)    Salary ($)\n",
       "0            4.370861  33881.018994\n",
       "1            9.556429  44576.545019\n",
       "2            7.587945  38507.270561\n",
       "3            6.387926  34765.401112\n",
       "4            2.404168  20096.331448"
      ]
     },
     "execution_count": 3,
     "metadata": {},
     "output_type": "execute_result"
    }
   ],
   "source": [
    "# Generate a simple dataset\n",
    "np.random.seed(42)\n",
    "\n",
    "# 50 samples of experience (1–10 years)\n",
    "X = np.random.uniform(1, 10, 50)\n",
    "\n",
    "# Generate salary with some noise\n",
    "y = 2500 * X + np.random.normal(0, 4000, size=50) + 20000\n",
    "\n",
    "# Create a DataFrame for visualization\n",
    "df = pd.DataFrame({\n",
    "    'Experience (Years)': X,\n",
    "    'Salary ($)': y\n",
    "})\n",
    "\n",
    "df.head()\n"
   ]
  },
  {
   "cell_type": "markdown",
   "id": "4050fa96-bf80-4daf-b22a-742f2e33642c",
   "metadata": {},
   "source": [
    "## Visualizing the Relationship\n",
    "\n",
    "Let’s visualize the scatter plot of experience vs salary to see if there’s a linear pattern."
   ]
  },
  {
   "cell_type": "code",
   "execution_count": 4,
   "id": "edb80409-f84d-4870-83b9-fdf37f8b9a82",
   "metadata": {},
   "outputs": [
    {
     "data": {
      "image/png": "[encoded data removed]",
      "text/plain": [
       "<Figure size 800x500 with 1 Axes>"
      ]
     },
     "metadata": {},
     "output_type": "display_data"
    }
   ],
   "source": [
    "plt.figure(figsize=(8,5))\n",
    "sns.scatterplot(data=df, x=\"Experience (Years)\", y=\"Salary ($)\", s=70)\n",
    "plt.title(\"Experience vs Salary\")\n",
    "plt.xlabel(\"Experience (Years)\")\n",
    "plt.ylabel(\"Salary ($)\")\n",
    "plt.show()"
   ]
  },
  {
   "cell_type": "markdown",
   "id": "51306a4e-5cc0-4a45-ab66-5bb71d1b5035",
   "metadata": {},
   "source": [
    "## Train-Test Split\n",
    "\n",
    "We’ll split the data into:\n",
    "- **Training set** → to train the model (80%)\n",
    "- **Testing set** → to evaluate its performance (20%)\n"
   ]
  },
  {
   "cell_type": "code",
   "execution_count": 7,
   "id": "db9dbead-0cc9-4a5b-99d4-cc1d5ac7c78b",
   "metadata": {},
   "outputs": [
    {
     "name": "stdout",
     "output_type": "stream",
     "text": [
      "Training samples: 40\n",
      "Testing samples: 10\n"
     ]
    }
   ],
   "source": [
    "X_train, X_test, y_train, y_test = train_test_split(X, y, test_size=0.2, random_state=42)\n",
    "# Ensure X arrays are 2D\n",
    "X_train = X_train.reshape(-1, 1)\n",
    "X_test = X_test.reshape(-1, 1)\n",
    "print(f\"Training samples: {len(X_train)}\")\n",
    "print(f\"Testing samples: {len(X_test)}\")\n"
   ]
  },
  {
   "cell_type": "markdown",
   "id": "998a1544-f685-4745-ad33-f60107a7e7b2",
   "metadata": {},
   "source": [
    "## Model Training\n",
    "\n",
    "We’ll use **Scikit-learn’s `LinearRegression`** to:\n",
    "1. Fit the model on training data  \n",
    "2. Retrieve learned coefficients and intercept\n"
   ]
  },
  {
   "cell_type": "code",
   "execution_count": 8,
   "id": "3f56daa7-e4ec-4e87-ae0f-4baa4fbdf690",
   "metadata": {},
   "outputs": [
    {
     "name": "stdout",
     "output_type": "stream",
     "text": [
      "Slope (Coefficient): 2377.20\n",
      "Intercept: 20617.49\n"
     ]
    }
   ],
   "source": [
    "# Initialize model\n",
    "model = LinearRegression()\n",
    "\n",
    "# Train the model\n",
    "model.fit(X_train, y_train)\n",
    "\n",
    "# Retrieve parameters\n",
    "m = model.coef_[0]\n",
    "b = model.intercept_\n",
    "\n",
    "print(f\"Slope (Coefficient): {m:.2f}\")\n",
    "print(f\"Intercept: {b:.2f}\")\n"
   ]
  },
  {
   "cell_type": "markdown",
   "id": "9e91b275-b19b-4a34-886b-2bcbfffb77a8",
   "metadata": {},
   "source": [
    "## Making Predictions\n",
    "\n",
    "Now we’ll use the trained model to predict salaries for the test dataset.\n"
   ]
  },
  {
   "cell_type": "code",
   "execution_count": 9,
   "id": "bddbe67b-9b03-4b52-b601-c2931199571b",
   "metadata": {},
   "outputs": [
    {
     "data": {
      "text/html": [
       "<div>\n",
       "<style scoped>\n",
       "    .dataframe tbody tr th:only-of-type {\n",
       "        vertical-align: middle;\n",
       "    }\n",
       "\n",
       "    .dataframe tbody tr th {\n",
       "        vertical-align: top;\n",
       "    }\n",
       "\n",
       "    .dataframe thead th {\n",
       "        text-align: right;\n",
       "    }\n",
       "</style>\n",
       "<table border=\"1\" class=\"dataframe\">\n",
       "  <thead>\n",
       "    <tr style=\"text-align: right;\">\n",
       "      <th></th>\n",
       "      <th>Actual Salary</th>\n",
       "      <th>Predicted Salary</th>\n",
       "    </tr>\n",
       "  </thead>\n",
       "  <tbody>\n",
       "    <tr>\n",
       "      <th>0</th>\n",
       "      <td>29724.335146</td>\n",
       "      <td>27537.627775</td>\n",
       "    </tr>\n",
       "    <tr>\n",
       "      <th>1</th>\n",
       "      <td>24453.155451</td>\n",
       "      <td>32411.639805</td>\n",
       "    </tr>\n",
       "    <tr>\n",
       "      <th>2</th>\n",
       "      <td>37615.341590</td>\n",
       "      <td>35992.958675</td>\n",
       "    </tr>\n",
       "    <tr>\n",
       "      <th>3</th>\n",
       "      <td>35399.723224</td>\n",
       "      <td>37169.187497</td>\n",
       "    </tr>\n",
       "    <tr>\n",
       "      <th>4</th>\n",
       "      <td>33070.170208</td>\n",
       "      <td>34221.720520</td>\n",
       "    </tr>\n",
       "    <tr>\n",
       "      <th>5</th>\n",
       "      <td>32681.940470</td>\n",
       "      <td>34691.417762</td>\n",
       "    </tr>\n",
       "    <tr>\n",
       "      <th>6</th>\n",
       "      <td>26704.619612</td>\n",
       "      <td>27266.656146</td>\n",
       "    </tr>\n",
       "    <tr>\n",
       "      <th>7</th>\n",
       "      <td>45591.419246</td>\n",
       "      <td>39793.333144</td>\n",
       "    </tr>\n",
       "    <tr>\n",
       "      <th>8</th>\n",
       "      <td>23820.356686</td>\n",
       "      <td>24386.447087</td>\n",
       "    </tr>\n",
       "    <tr>\n",
       "      <th>9</th>\n",
       "      <td>32954.836163</td>\n",
       "      <td>29225.460807</td>\n",
       "    </tr>\n",
       "  </tbody>\n",
       "</table>\n",
       "</div>"
      ],
      "text/plain": [
       "   Actual Salary  Predicted Salary\n",
       "0   29724.335146      27537.627775\n",
       "1   24453.155451      32411.639805\n",
       "2   37615.341590      35992.958675\n",
       "3   35399.723224      37169.187497\n",
       "4   33070.170208      34221.720520\n",
       "5   32681.940470      34691.417762\n",
       "6   26704.619612      27266.656146\n",
       "7   45591.419246      39793.333144\n",
       "8   23820.356686      24386.447087\n",
       "9   32954.836163      29225.460807"
      ]
     },
     "execution_count": 9,
     "metadata": {},
     "output_type": "execute_result"
    }
   ],
   "source": [
    "# Predictions\n",
    "y_pred = model.predict(X_test)\n",
    "\n",
    "# Compare few values\n",
    "comparison = pd.DataFrame({\n",
    "    \"Actual Salary\": y_test.flatten(),\n",
    "    \"Predicted Salary\": y_pred.flatten()\n",
    "}).head(10)\n",
    "\n",
    "comparison\n"
   ]
  },
  {
   "cell_type": "markdown",
   "id": "77550a73-5148-49d2-95f1-a553d274d794",
   "metadata": {},
   "source": [
    "## Visualizing the Regression Line\n",
    "\n",
    "We’ll overlay the predicted regression line on the scatter plot to visualize the fit.\n"
   ]
  },
  {
   "cell_type": "code",
   "execution_count": 12,
   "id": "eb54bfd3-9ea4-4aac-b304-c22ca06eab67",
   "metadata": {},
   "outputs": [
    {
     "data": {
      "image/png": "[encoded data removed]",
      "text/plain": [
       "<Figure size 800x500 with 1 Axes>"
      ]
     },
     "metadata": {},
     "output_type": "display_data"
    }
   ],
   "source": [
    "plt.figure(figsize=(8,5))\n",
    "sns.scatterplot(x=X_train.flatten(), y=y_train.flatten(), label=\"Training Data\", s=70)\n",
    "\n",
    "# ✅ Fix: reshape X to 2D before predicting\n",
    "sns.lineplot(x=X.flatten(), y=model.predict(X.reshape(-1, 1)), color=\"red\", label=\"Regression Line\")\n",
    "\n",
    "plt.xlabel(\"Experience (Years)\")\n",
    "plt.ylabel(\"Salary ($)\")\n",
    "plt.title(\"Linear Regression Fit\")\n",
    "plt.legend()\n",
    "plt.show()\n"
   ]
  },
  {
   "cell_type": "markdown",
   "id": "d04dc453-4856-4cd4-a5c8-92c6b83d5d1a",
   "metadata": {},
   "source": [
    "## Model Evaluation\n",
    "\n",
    "We’ll use:\n",
    "- **Mean Squared Error (MSE)** → average squared difference between predicted and actual values  \n",
    "- **Root Mean Squared Error (RMSE)** → square root of MSE  \n",
    "- **R² Score (Coefficient of Determination)** → how well the model explains variance in data  \n",
    "\n",
    "\\[\n",
    "R^2 = 1 - \\frac{SS_{res}}{SS_{tot}}\n",
    "\\]\n"
   ]
  },
  {
   "cell_type": "code",
   "execution_count": 13,
   "id": "a2d925e9-561a-41aa-9487-4d00dbd09ba3",
   "metadata": {},
   "outputs": [
    {
     "name": "stdout",
     "output_type": "stream",
     "text": [
      "Mean Squared Error: 12740874.60\n",
      "Root Mean Squared Error: 3569.44\n",
      "R² Score: 0.6708\n"
     ]
    }
   ],
   "source": [
    "mse = mean_squared_error(y_test, y_pred)\n",
    "rmse = np.sqrt(mse)\n",
    "r2 = r2_score(y_test, y_pred)\n",
    "\n",
    "print(f\"Mean Squared Error: {mse:.2f}\")\n",
    "print(f\"Root Mean Squared Error: {rmse:.2f}\")\n",
    "print(f\"R² Score: {r2:.4f}\")\n"
   ]
  },
  {
   "cell_type": "markdown",
   "id": "a74472ce-4787-45e9-82f4-eacc21a389e6",
   "metadata": {},
   "source": [
    "## Interpretation of Results\n",
    "\n",
    "- **R² Score** close to 1 → strong linear relationship  \n",
    "- **Lower RMSE** → better predictive performance  \n",
    "\n",
    "Since our data was synthetic with random noise, perfect accuracy isn’t expected.  \n",
    "However, we can see that Linear Regression effectively captures the general linear trend.\n",
    "\n",
    "---\n",
    "\n",
    "## Key Takeaways\n",
    "- Linear Regression models the relationship between numeric variables.\n",
    "- It finds the best-fit line minimizing squared errors.\n",
    "- Metrics like MSE and R² help quantify performance.\n",
    "- Works best for data showing **linear correlation** between features and target.\n",
    "\n",
    "---\n",
    "\n",
    "## Next Steps\n",
    "Try:\n",
    "- Adding multiple features (Multiple Linear Regression)\n",
    "- Using real datasets (e.g., Boston Housing)\n",
    "- Regularized versions: **Ridge**, **Lasso**\n"
   ]
  },
  {
   "cell_type": "code",
   "execution_count": null,
   "id": "01cde283-04b5-4938-85a6-3eb34138389b",
   "metadata": {},
   "outputs": [],
   "source": []
  }
 ],
 "metadata": {
  "kernelspec": {
   "display_name": "Python 3 (ipykernel)",
   "language": "python",
   "name": "python3"
  },
  "language_info": {
   "codemirror_mode": {
    "name": "ipython",
    "version": 3
   },
   "file_extension": ".py",
   "mimetype": "text/x-python",
   "name": "python",
   "nbconvert_exporter": "python",
   "pygments_lexer": "ipython3",
   "version": "3.12.7"
  }
 },
 "nbformat": 4,
 "nbformat_minor": 5
}
