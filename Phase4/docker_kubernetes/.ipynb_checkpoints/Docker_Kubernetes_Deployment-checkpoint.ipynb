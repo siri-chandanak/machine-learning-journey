{
 "cells": [
  {
   "cell_type": "markdown",
   "id": "e6ce9cc4-c033-4944-bdc9-546a9e91fa7b",
   "metadata": {},
   "source": [
    "## Model Training and Saving (`model.pkl`)\n",
    "\n",
    "In this section, we’ll train a simple **Random Forest Classifier** on the classic **Iris dataset** and save the trained model to a file named `model.pkl`.  \n",
    "This serialized file will later be used inside our Docker container or deployment pipeline.\n",
    "\n",
    "### Steps Overview:\n",
    "1. Load the **Iris dataset** using `scikit-learn`.\n",
    "2. Split the dataset into **training** and **testing** sets.\n",
    "3. Train a **RandomForestClassifier** on the training data.\n",
    "4. Save the trained model using **`joblib`**."
   ]
  },
  {
   "cell_type": "code",
   "execution_count": 1,
   "id": "66759138-02bd-4692-80ae-332250dd7249",
   "metadata": {},
   "outputs": [
    {
     "name": "stdout",
     "output_type": "stream",
     "text": [
      "✅ model.pkl saved successfully!\n"
     ]
    }
   ],
   "source": [
    "# model_training.ipynb\n",
    "from sklearn.datasets import load_iris\n",
    "from sklearn.ensemble import RandomForestClassifier\n",
    "from sklearn.model_selection import train_test_split\n",
    "import joblib\n",
    "\n",
    "# Load and train model\n",
    "iris = load_iris()\n",
    "X_train, X_test, y_train, y_test = train_test_split(iris.data, iris.target, random_state=42)\n",
    "model = RandomForestClassifier()\n",
    "model.fit(X_train, y_train)\n",
    "\n",
    "# Save the trained model\n",
    "joblib.dump(model, \"model.pkl\")\n",
    "print(\"✅ model.pkl saved successfully!\")\n"
   ]
  },
  {
   "cell_type": "code",
   "execution_count": 5,
   "id": "ea4a6a71-086c-4a4c-9947-e9347f0ee819",
   "metadata": {},
   "outputs": [
    {
     "name": "stdout",
     "output_type": "stream",
     "text": [
      "{'prediction': [2, 2]}\n"
     ]
    }
   ],
   "source": [
    "import requests\n",
    "\n",
    "url = \"http://localhost:5000/predict\"\n",
    "\n",
    "# Send 4 features per input (matches model training)\n",
    "data = {\"features\": [[1, 2, 3, 4], [4, 5, 6, 7]]}\n",
    "\n",
    "response = requests.post(url, json=data)\n",
    "print(response.json())"
   ]
  },
  {
   "cell_type": "code",
   "execution_count": null,
   "id": "b485b0b2-1d29-43f1-9f06-f896e3fffbec",
   "metadata": {},
   "outputs": [],
   "source": []
  }
 ],
 "metadata": {
  "kernelspec": {
   "display_name": "Python 3 (ipykernel)",
   "language": "python",
   "name": "python3"
  },
  "language_info": {
   "codemirror_mode": {
    "name": "ipython",
    "version": 3
   },
   "file_extension": ".py",
   "mimetype": "text/x-python",
   "name": "python",
   "nbconvert_exporter": "python",
   "pygments_lexer": "ipython3",
   "version": "3.12.7"
  }
 },
 "nbformat": 4,
 "nbformat_minor": 5
}
