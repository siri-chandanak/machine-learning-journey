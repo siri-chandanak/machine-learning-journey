{
 "cells": [
  {
   "cell_type": "markdown",
   "id": "e61d6ed6-a923-4fbc-86f8-d367d1e0978c",
   "metadata": {},
   "source": [
    "# Generative Adversarial Networks (GANs)\n",
    "**Objective:** Understand and implement a simple GAN using PyTorch.\n",
    "\n",
    "Generative Adversarial Networks (GANs) are deep learning models that can generate new, realistic data samples such as images, videos, and text. GANs consist of two neural networks — a **Generator** and a **Discriminator** — that compete against each other in a game-theoretic setup.\n",
    "\n",
    "## What is a GAN?\n",
    "\n",
    "A GAN consists of two main components:\n",
    "\n",
    "- **Generator (G):** Learns to generate fake data from random noise.\n",
    "- **Discriminator (D):** Learns to distinguish between real and fake data.\n",
    "\n",
    "The training process is adversarial:\n",
    "1. The generator tries to fool the discriminator.\n",
    "2. The discriminator tries to correctly classify real vs. fake data.\n",
    "\n",
    "Mathematically, the GAN objective is:\n",
    "\n",
    "\\[\n",
    "$ \\min_G \\max_D V(D, G) = \\mathbb{E}_{x \\sim p_{\\text{data}}(x)}[\\log D(x)] + \\mathbb{E}_{z \\sim p_z(z)}[\\log(1 - D(G(z)))] $\n",
    "\\]"
   ]
  },
  {
   "cell_type": "code",
   "execution_count": 1,
   "id": "a70fd6e6-3268-4659-bca5-a5240772531b",
   "metadata": {},
   "outputs": [
    {
     "name": "stdout",
     "output_type": "stream",
     "text": [
      "Using device: cpu\n"
     ]
    }
   ],
   "source": [
    "import torch\n",
    "import torch.nn as nn\n",
    "import torch.optim as optim\n",
    "from torchvision import datasets, transforms\n",
    "from torch.utils.data import DataLoader\n",
    "import matplotlib.pyplot as plt\n",
    "\n",
    "# Device configuration\n",
    "device = torch.device(\"cuda\" if torch.cuda.is_available() else \"cpu\")\n",
    "print(\"Using device:\", device)\n"
   ]
  },
  {
   "cell_type": "markdown",
   "id": "571449bc-f705-4bb8-b828-deeae2d2152b",
   "metadata": {},
   "source": [
    "## Step 1: Data Preparation\n",
    "\n",
    "We’ll use the **MNIST dataset** — a collection of handwritten digits (0–9) — as our real data source."
   ]
  },
  {
   "cell_type": "code",
   "execution_count": 2,
   "id": "90aa360d-e9ed-4fa9-8555-37e95b3056d8",
   "metadata": {},
   "outputs": [
    {
     "name": "stdout",
     "output_type": "stream",
     "text": [
      "Downloading http://yann.lecun.com/exdb/mnist/train-images-idx3-ubyte.gz\n",
      "Failed to download (trying next):\n",
      "HTTP Error 404: Not Found\n",
      "\n",
      "Downloading https://ossci-datasets.s3.amazonaws.com/mnist/train-images-idx3-ubyte.gz\n",
      "Downloading https://ossci-datasets.s3.amazonaws.com/mnist/train-images-idx3-ubyte.gz to ./data\\MNIST\\raw\\train-images-idx3-ubyte.gz\n"
     ]
    },
    {
     "name": "stderr",
     "output_type": "stream",
     "text": [
      "100%|██████████████████████████████████████████████████████████████████████████████████████████| 9.91M/9.91M [00:01<00:00, 6.13MB/s]\n"
     ]
    },
    {
     "name": "stdout",
     "output_type": "stream",
     "text": [
      "Extracting ./data\\MNIST\\raw\\train-images-idx3-ubyte.gz to ./data\\MNIST\\raw\n",
      "\n",
      "Downloading http://yann.lecun.com/exdb/mnist/train-labels-idx1-ubyte.gz\n",
      "Failed to download (trying next):\n",
      "HTTP Error 404: Not Found\n",
      "\n",
      "Downloading https://ossci-datasets.s3.amazonaws.com/mnist/train-labels-idx1-ubyte.gz\n",
      "Downloading https://ossci-datasets.s3.amazonaws.com/mnist/train-labels-idx1-ubyte.gz to ./data\\MNIST\\raw\\train-labels-idx1-ubyte.gz\n"
     ]
    },
    {
     "name": "stderr",
     "output_type": "stream",
     "text": [
      "100%|███████████████████████████████████████████████████████████████████████████████████████████| 28.9k/28.9k [00:00<00:00, 677kB/s]\n"
     ]
    },
    {
     "name": "stdout",
     "output_type": "stream",
     "text": [
      "Extracting ./data\\MNIST\\raw\\train-labels-idx1-ubyte.gz to ./data\\MNIST\\raw\n",
      "\n",
      "Downloading http://yann.lecun.com/exdb/mnist/t10k-images-idx3-ubyte.gz\n",
      "Failed to download (trying next):\n",
      "HTTP Error 404: Not Found\n",
      "\n",
      "Downloading https://ossci-datasets.s3.amazonaws.com/mnist/t10k-images-idx3-ubyte.gz\n",
      "Downloading https://ossci-datasets.s3.amazonaws.com/mnist/t10k-images-idx3-ubyte.gz to ./data\\MNIST\\raw\\t10k-images-idx3-ubyte.gz\n"
     ]
    },
    {
     "name": "stderr",
     "output_type": "stream",
     "text": [
      "100%|██████████████████████████████████████████████████████████████████████████████████████████| 1.65M/1.65M [00:00<00:00, 3.83MB/s]\n"
     ]
    },
    {
     "name": "stdout",
     "output_type": "stream",
     "text": [
      "Extracting ./data\\MNIST\\raw\\t10k-images-idx3-ubyte.gz to ./data\\MNIST\\raw\n",
      "\n",
      "Downloading http://yann.lecun.com/exdb/mnist/t10k-labels-idx1-ubyte.gz\n",
      "Failed to download (trying next):\n",
      "HTTP Error 404: Not Found\n",
      "\n",
      "Downloading https://ossci-datasets.s3.amazonaws.com/mnist/t10k-labels-idx1-ubyte.gz\n",
      "Downloading https://ossci-datasets.s3.amazonaws.com/mnist/t10k-labels-idx1-ubyte.gz to ./data\\MNIST\\raw\\t10k-labels-idx1-ubyte.gz\n"
     ]
    },
    {
     "name": "stderr",
     "output_type": "stream",
     "text": [
      "100%|██████████████████████████████████████████████████████████████████████████████████████████| 4.54k/4.54k [00:00<00:00, 1.14MB/s]\n"
     ]
    },
    {
     "name": "stdout",
     "output_type": "stream",
     "text": [
      "Extracting ./data\\MNIST\\raw\\t10k-labels-idx1-ubyte.gz to ./data\\MNIST\\raw\n",
      "\n"
     ]
    }
   ],
   "source": [
    "transform = transforms.Compose([\n",
    "    transforms.ToTensor(),\n",
    "    transforms.Normalize((0.5,), (0.5,))\n",
    "])\n",
    "\n",
    "batch_size = 128\n",
    "dataset = datasets.MNIST(root='./data', train=True, transform=transform, download=True)\n",
    "dataloader = DataLoader(dataset, batch_size=batch_size, shuffle=True)\n"
   ]
  },
  {
   "cell_type": "markdown",
   "id": "75b54643-7014-443f-a40e-6ae6085a17aa",
   "metadata": {},
   "source": [
    "## Step 2: Define the Generator and Discriminator\n",
    "\n",
    "### Generator (G)\n",
    "- Takes random noise as input.\n",
    "- Outputs a fake image (28×28 pixels).\n",
    "\n",
    "### Discriminator (D)\n",
    "- Takes an image as input.\n",
    "- Outputs a single probability (real or fake).\n"
   ]
  },
  {
   "cell_type": "code",
   "execution_count": 3,
   "id": "3c5dad76-b71c-4da8-ab5d-ed5b8417214a",
   "metadata": {},
   "outputs": [],
   "source": [
    "# Generator Network\n",
    "class Generator(nn.Module):\n",
    "    def __init__(self, input_dim=100, hidden_dim=256, output_dim=784):\n",
    "        super(Generator, self).__init__()\n",
    "        self.model = nn.Sequential(\n",
    "            nn.Linear(input_dim, hidden_dim),\n",
    "            nn.ReLU(True),\n",
    "            nn.Linear(hidden_dim, hidden_dim*2),\n",
    "            nn.ReLU(True),\n",
    "            nn.Linear(hidden_dim*2, hidden_dim*4),\n",
    "            nn.ReLU(True),\n",
    "            nn.Linear(hidden_dim*4, output_dim),\n",
    "            nn.Tanh()\n",
    "        )\n",
    "\n",
    "    def forward(self, z):\n",
    "        return self.model(z)\n",
    "\n",
    "# Discriminator Network\n",
    "class Discriminator(nn.Module):\n",
    "    def __init__(self, input_dim=784, hidden_dim=256):\n",
    "        super(Discriminator, self).__init__()\n",
    "        self.model = nn.Sequential(\n",
    "            nn.Linear(input_dim, hidden_dim*4),\n",
    "            nn.LeakyReLU(0.2, inplace=True),\n",
    "            nn.Linear(hidden_dim*4, hidden_dim*2),\n",
    "            nn.LeakyReLU(0.2, inplace=True),\n",
    "            nn.Linear(hidden_dim*2, 1),\n",
    "            nn.Sigmoid()\n",
    "        )\n",
    "\n",
    "    def forward(self, x):\n",
    "        return self.model(x)\n"
   ]
  },
  {
   "cell_type": "markdown",
   "id": "adc93c1e-0bf0-4c8f-9cdd-0fe22a6c823e",
   "metadata": {},
   "source": [
    "## Step 3: Initialize Models, Optimizers, and Loss Function\n",
    "We use Binary Cross Entropy (BCE) loss since GAN is a binary classification setup.\n"
   ]
  },
  {
   "cell_type": "code",
   "execution_count": 4,
   "id": "df333f1e-9747-48d1-aa4f-6a63d514c342",
   "metadata": {},
   "outputs": [],
   "source": [
    "z_dim = 100\n",
    "\n",
    "G = Generator(input_dim=z_dim).to(device)\n",
    "D = Discriminator().to(device)\n",
    "\n",
    "criterion = nn.BCELoss()\n",
    "lr = 0.0002\n",
    "\n",
    "optimizer_G = optim.Adam(G.parameters(), lr=lr)\n",
    "optimizer_D = optim.Adam(D.parameters(), lr=lr)\n"
   ]
  },
  {
   "cell_type": "markdown",
   "id": "e8085160-559f-4781-9cc0-6d309675aa99",
   "metadata": {},
   "source": [
    "## Step 4: Training the GAN\n",
    "\n",
    "1. Train the **Discriminator** to distinguish real and fake images.\n",
    "2. Train the **Generator** to fool the Discriminator.\n"
   ]
  },
  {
   "cell_type": "code",
   "execution_count": 6,
   "id": "83fb58c4-826f-4068-9e01-be1f32cdb392",
   "metadata": {},
   "outputs": [
    {
     "name": "stdout",
     "output_type": "stream",
     "text": [
      "Epoch [1/30] | D Loss: 0.0054 | G Loss: 7.3310\n",
      "Epoch [2/30] | D Loss: 1.2678 | G Loss: 8.3659\n",
      "Epoch [3/30] | D Loss: 0.6599 | G Loss: 8.4241\n",
      "Epoch [4/30] | D Loss: 2.2225 | G Loss: 1.3533\n",
      "Epoch [5/30] | D Loss: 1.1882 | G Loss: 4.3140\n",
      "Epoch [6/30] | D Loss: 0.8055 | G Loss: 1.1242\n",
      "Epoch [7/30] | D Loss: 0.1721 | G Loss: 4.0201\n",
      "Epoch [8/30] | D Loss: 0.2193 | G Loss: 4.2865\n",
      "Epoch [9/30] | D Loss: 0.0497 | G Loss: 6.9426\n",
      "Epoch [10/30] | D Loss: 0.5980 | G Loss: 4.5984\n",
      "Epoch [11/30] | D Loss: 0.4507 | G Loss: 6.2350\n",
      "Epoch [12/30] | D Loss: 0.2797 | G Loss: 6.4115\n",
      "Epoch [13/30] | D Loss: 0.2032 | G Loss: 4.5084\n",
      "Epoch [14/30] | D Loss: 0.4240 | G Loss: 6.9540\n",
      "Epoch [15/30] | D Loss: 0.1621 | G Loss: 9.7538\n",
      "Epoch [16/30] | D Loss: 0.4017 | G Loss: 4.1586\n",
      "Epoch [17/30] | D Loss: 0.3477 | G Loss: 5.7893\n",
      "Epoch [18/30] | D Loss: 0.0782 | G Loss: 6.6444\n",
      "Epoch [19/30] | D Loss: 0.2728 | G Loss: 9.9649\n",
      "Epoch [20/30] | D Loss: 0.4581 | G Loss: 3.9620\n",
      "Epoch [21/30] | D Loss: 0.1780 | G Loss: 6.2195\n",
      "Epoch [22/30] | D Loss: 0.1945 | G Loss: 4.7208\n",
      "Epoch [23/30] | D Loss: 0.3856 | G Loss: 6.1084\n",
      "Epoch [24/30] | D Loss: 0.5191 | G Loss: 3.2596\n",
      "Epoch [25/30] | D Loss: 0.4338 | G Loss: 6.6965\n",
      "Epoch [26/30] | D Loss: 0.2212 | G Loss: 5.2721\n",
      "Epoch [27/30] | D Loss: 0.3632 | G Loss: 5.0896\n",
      "Epoch [28/30] | D Loss: 0.4338 | G Loss: 3.4677\n",
      "Epoch [29/30] | D Loss: 0.3343 | G Loss: 4.3551\n",
      "Epoch [30/30] | D Loss: 0.4276 | G Loss: 3.3803\n"
     ]
    }
   ],
   "source": [
    "epochs = 30\n",
    "\n",
    "for epoch in range(epochs):\n",
    "    for i, (real_images, _) in enumerate(dataloader):\n",
    "        batch_size = real_images.size(0)\n",
    "        real_images = real_images.view(batch_size, -1).to(device)\n",
    "\n",
    "        # Labels\n",
    "        real_labels = torch.ones(batch_size, 1).to(device)\n",
    "        fake_labels = torch.zeros(batch_size, 1).to(device)\n",
    "\n",
    "        # --- Train Discriminator ---\n",
    "        z = torch.randn(batch_size, z_dim).to(device)\n",
    "        fake_images = G(z)\n",
    "\n",
    "        outputs_real = D(real_images)\n",
    "        outputs_fake = D(fake_images.detach())\n",
    "\n",
    "        d_loss_real = criterion(outputs_real, real_labels)\n",
    "        d_loss_fake = criterion(outputs_fake, fake_labels)\n",
    "        d_loss = d_loss_real + d_loss_fake\n",
    "\n",
    "        optimizer_D.zero_grad()\n",
    "        d_loss.backward()\n",
    "        optimizer_D.step()\n",
    "\n",
    "        # --- Train Generator ---\n",
    "        z = torch.randn(batch_size, z_dim).to(device)\n",
    "        fake_images = G(z)\n",
    "        outputs = D(fake_images)\n",
    "\n",
    "        g_loss = criterion(outputs, real_labels)  # Generator wants D to believe fake is real\n",
    "\n",
    "        optimizer_G.zero_grad()\n",
    "        g_loss.backward()\n",
    "        optimizer_G.step()\n",
    "\n",
    "    print(f\"Epoch [{epoch+1}/{epochs}] | D Loss: {d_loss.item():.4f} | G Loss: {g_loss.item():.4f}\")\n"
   ]
  },
  {
   "cell_type": "markdown",
   "id": "53c0f854-56a7-46f5-88cc-8f72204d0ec6",
   "metadata": {},
   "source": [
    "## Step 5: Visualize Generated Images\n",
    "\n",
    "Let's view some generated samples from the generator after training.\n"
   ]
  },
  {
   "cell_type": "code",
   "execution_count": 7,
   "id": "5fc56917-5090-44a0-b71f-0ff18762449f",
   "metadata": {},
   "outputs": [
    {
     "data": {
      "image/png": "[encoded data removed]",
      "text/plain": [
       "<Figure size 600x600 with 16 Axes>"
      ]
     },
     "metadata": {},
     "output_type": "display_data"
    }
   ],
   "source": [
    "def show_images(images, n=16):\n",
    "    plt.figure(figsize=(6,6))\n",
    "    for i in range(n):\n",
    "        plt.subplot(4, 4, i+1)\n",
    "        plt.imshow(images[i].reshape(28,28).cpu().detach(), cmap='gray')\n",
    "        plt.axis('off')\n",
    "    plt.show()\n",
    "\n",
    "# Generate fake images\n",
    "z = torch.randn(16, z_dim).to(device)\n",
    "fake_images = G(z)\n",
    "show_images(fake_images)\n"
   ]
  },
  {
   "cell_type": "markdown",
   "id": "d6c66e91-e9d4-4893-81c4-b5a3d2352cf6",
   "metadata": {},
   "source": [
    "## Step 6: Notes & Best Practices\n",
    "\n",
    "- **Training Stability:** GANs can be hard to train. Use techniques like:\n",
    "  - Label smoothing (real = 0.9 instead of 1.0)\n",
    "  - Gradient penalty\n",
    "  - Batch normalization in the Generator\n",
    "  - Leaky ReLU in Discriminator\n",
    "\n",
    "- **Common GAN Variants:**\n",
    "  - DCGAN: Deep Convolutional GAN for images\n",
    "  - WGAN: Wasserstein GAN for stable training\n",
    "  - CycleGAN: Image-to-image translation\n",
    "  - StyleGAN: High-resolution image synthesis\n",
    "\n",
    "- **Applications:**\n",
    "  - Image generation, super-resolution\n",
    "  - Data augmentation\n",
    "  - Creative AI (art, fashion, design)\n",
    "  - Anomaly detection\n"
   ]
  },
  {
   "cell_type": "code",
   "execution_count": null,
   "id": "9b883da9-ec39-4b2f-9d0f-c44578758105",
   "metadata": {},
   "outputs": [],
   "source": []
  }
 ],
 "metadata": {
  "kernelspec": {
   "display_name": "Diffusion Lab",
   "language": "python",
   "name": "diffusion_lab"
  },
  "language_info": {
   "codemirror_mode": {
    "name": "ipython",
    "version": 3
   },
   "file_extension": ".py",
   "mimetype": "text/x-python",
   "name": "python",
   "nbconvert_exporter": "python",
   "pygments_lexer": "ipython3",
   "version": "3.10.18"
  }
 },
 "nbformat": 4,
 "nbformat_minor": 5
}
