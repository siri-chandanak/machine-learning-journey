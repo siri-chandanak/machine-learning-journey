{
 "cells": [
  {
   "cell_type": "markdown",
   "id": "27f287d6-712e-4f14-bd37-0cc734c22fa1",
   "metadata": {},
   "source": [
    "# Databases (SQL + NoSQL)\n",
    "\n",
    "In this notebook, we’ll cover:\n",
    "- SQL Basics (`SELECT`, `WHERE`, `GROUP BY`, `JOIN`)\n",
    "- Subqueries\n",
    "- Normalization basics\n",
    "- MongoDB fundamentals (collections, documents)\n",
    "  \n",
    "We’ll also perform **hands-on tasks** using **SQLite** (for SQL) and **PyMongo** (for MongoDB).\n"
   ]
  },
  {
   "cell_type": "markdown",
   "id": "e09acb81-9a89-47f4-8b5e-cfc505b9d605",
   "metadata": {},
   "source": [
    "## Section 1: SQL Basics with SQLite\n",
    "We'll use Python's built-in `sqlite3` library to perform SQL operations.\n"
   ]
  },
  {
   "cell_type": "code",
   "execution_count": 3,
   "id": "cf160d55-a9a7-4276-9cc5-b2672e9306fa",
   "metadata": {},
   "outputs": [],
   "source": [
    "import sqlite3\n",
    "import pandas as pd\n",
    "\n",
    "# Create in-memory database\n",
    "conn = sqlite3.connect(':memory:')\n",
    "cursor = conn.cursor()\n"
   ]
  },
  {
   "cell_type": "markdown",
   "id": "b3d21a82-fee3-4068-84e5-2a2ba4340933",
   "metadata": {},
   "source": [
    "### Create Table: `students`"
   ]
  },
  {
   "cell_type": "code",
   "execution_count": 4,
   "id": "14448dbd-8fcd-4141-8ef6-f2e51030d36d",
   "metadata": {},
   "outputs": [],
   "source": [
    "cursor.execute('''\n",
    "CREATE TABLE students (\n",
    "    id INTEGER PRIMARY KEY,\n",
    "    name TEXT,\n",
    "    marks INTEGER,\n",
    "    subject TEXT\n",
    ")\n",
    "''')\n",
    "\n",
    "# Insert sample data\n",
    "students_data = [\n",
    "    (1, 'Alice', 95, 'Math'),\n",
    "    (2, 'Bob', 75, 'Science'),\n",
    "    (3, 'Charlie', 82, 'Math'),\n",
    "    (4, 'David', 90, 'English'),\n",
    "    (5, 'Eva', 70, 'Science')\n",
    "]\n",
    "\n",
    "cursor.executemany('INSERT INTO students VALUES (?, ?, ?, ?)', students_data)\n",
    "conn.commit()\n"
   ]
  },
  {
   "cell_type": "markdown",
   "id": "cbc1f16a-15c2-44c0-8d78-05f63eab0f81",
   "metadata": {},
   "source": [
    "### Query 1: Find students with marks > 80"
   ]
  },
  {
   "cell_type": "code",
   "execution_count": 5,
   "id": "d8571b85-03b7-4825-8ec1-12f5ebf8f0b3",
   "metadata": {},
   "outputs": [
    {
     "data": {
      "text/html": [
       "<div>\n",
       "<style scoped>\n",
       "    .dataframe tbody tr th:only-of-type {\n",
       "        vertical-align: middle;\n",
       "    }\n",
       "\n",
       "    .dataframe tbody tr th {\n",
       "        vertical-align: top;\n",
       "    }\n",
       "\n",
       "    .dataframe thead th {\n",
       "        text-align: right;\n",
       "    }\n",
       "</style>\n",
       "<table border=\"1\" class=\"dataframe\">\n",
       "  <thead>\n",
       "    <tr style=\"text-align: right;\">\n",
       "      <th></th>\n",
       "      <th>id</th>\n",
       "      <th>name</th>\n",
       "      <th>marks</th>\n",
       "      <th>subject</th>\n",
       "    </tr>\n",
       "  </thead>\n",
       "  <tbody>\n",
       "    <tr>\n",
       "      <th>0</th>\n",
       "      <td>1</td>\n",
       "      <td>Alice</td>\n",
       "      <td>95</td>\n",
       "      <td>Math</td>\n",
       "    </tr>\n",
       "    <tr>\n",
       "      <th>1</th>\n",
       "      <td>3</td>\n",
       "      <td>Charlie</td>\n",
       "      <td>82</td>\n",
       "      <td>Math</td>\n",
       "    </tr>\n",
       "    <tr>\n",
       "      <th>2</th>\n",
       "      <td>4</td>\n",
       "      <td>David</td>\n",
       "      <td>90</td>\n",
       "      <td>English</td>\n",
       "    </tr>\n",
       "  </tbody>\n",
       "</table>\n",
       "</div>"
      ],
      "text/plain": [
       "   id     name  marks  subject\n",
       "0   1    Alice     95     Math\n",
       "1   3  Charlie     82     Math\n",
       "2   4    David     90  English"
      ]
     },
     "execution_count": 5,
     "metadata": {},
     "output_type": "execute_result"
    }
   ],
   "source": [
    "query1 = \"SELECT * FROM students WHERE marks > 80\"\n",
    "df1 = pd.read_sql_query(query1, conn)\n",
    "df1\n"
   ]
  },
  {
   "cell_type": "markdown",
   "id": "8143cd86-1a95-455e-a364-f146d62a7a4a",
   "metadata": {},
   "source": [
    "### Query 2: Get average marks by subject (`GROUP BY`)"
   ]
  },
  {
   "cell_type": "code",
   "execution_count": 6,
   "id": "34541c98-61e6-41ba-93db-1aabf5348a40",
   "metadata": {},
   "outputs": [
    {
     "data": {
      "text/html": [
       "<div>\n",
       "<style scoped>\n",
       "    .dataframe tbody tr th:only-of-type {\n",
       "        vertical-align: middle;\n",
       "    }\n",
       "\n",
       "    .dataframe tbody tr th {\n",
       "        vertical-align: top;\n",
       "    }\n",
       "\n",
       "    .dataframe thead th {\n",
       "        text-align: right;\n",
       "    }\n",
       "</style>\n",
       "<table border=\"1\" class=\"dataframe\">\n",
       "  <thead>\n",
       "    <tr style=\"text-align: right;\">\n",
       "      <th></th>\n",
       "      <th>subject</th>\n",
       "      <th>avg_marks</th>\n",
       "    </tr>\n",
       "  </thead>\n",
       "  <tbody>\n",
       "    <tr>\n",
       "      <th>0</th>\n",
       "      <td>English</td>\n",
       "      <td>90.0</td>\n",
       "    </tr>\n",
       "    <tr>\n",
       "      <th>1</th>\n",
       "      <td>Math</td>\n",
       "      <td>88.5</td>\n",
       "    </tr>\n",
       "    <tr>\n",
       "      <th>2</th>\n",
       "      <td>Science</td>\n",
       "      <td>72.5</td>\n",
       "    </tr>\n",
       "  </tbody>\n",
       "</table>\n",
       "</div>"
      ],
      "text/plain": [
       "   subject  avg_marks\n",
       "0  English       90.0\n",
       "1     Math       88.5\n",
       "2  Science       72.5"
      ]
     },
     "execution_count": 6,
     "metadata": {},
     "output_type": "execute_result"
    }
   ],
   "source": [
    "query2 = \"SELECT subject, AVG(marks) as avg_marks FROM students GROUP BY subject\"\n",
    "df2 = pd.read_sql_query(query2, conn)\n",
    "df2"
   ]
  },
  {
   "cell_type": "markdown",
   "id": "04eefdc7-b437-42ae-b551-23b5d3b525d7",
   "metadata": {},
   "source": [
    "## Section 2: Mini Project — Movies Database\n",
    "Let’s create a small movie database and perform some analytical queries.\n"
   ]
  },
  {
   "cell_type": "code",
   "execution_count": 8,
   "id": "bd73e27e-7f3c-499e-af2e-c6625ca5fb2e",
   "metadata": {},
   "outputs": [],
   "source": [
    "cursor.execute('''\n",
    "CREATE TABLE movies (\n",
    "    id INTEGER PRIMARY KEY,\n",
    "    title TEXT,\n",
    "    rating REAL,\n",
    "    genre TEXT\n",
    ")\n",
    "''')\n",
    "\n",
    "movies_data = [\n",
    "    (1, 'Inception', 8.8, 'Sci-Fi'),\n",
    "    (2, 'The Dark Knight', 9.0, 'Action'),\n",
    "    (3, 'Interstellar', 8.6, 'Sci-Fi'),\n",
    "    (4, 'Parasite', 8.6, 'Thriller'),\n",
    "    (5, 'Titanic', 7.8, 'Romance')\n",
    "]\n",
    "\n",
    "cursor.executemany('INSERT INTO movies VALUES (?, ?, ?, ?)', movies_data)\n",
    "conn.commit()\n"
   ]
  },
  {
   "cell_type": "markdown",
   "id": "70016160-d516-4ffa-854b-ca5f6c58c945",
   "metadata": {},
   "source": [
    "### Query 1: Find top 3 movies by rating"
   ]
  },
  {
   "cell_type": "code",
   "execution_count": 9,
   "id": "47821116-7454-4a9c-ae11-e8b6fa86fd0a",
   "metadata": {},
   "outputs": [
    {
     "data": {
      "text/html": [
       "<div>\n",
       "<style scoped>\n",
       "    .dataframe tbody tr th:only-of-type {\n",
       "        vertical-align: middle;\n",
       "    }\n",
       "\n",
       "    .dataframe tbody tr th {\n",
       "        vertical-align: top;\n",
       "    }\n",
       "\n",
       "    .dataframe thead th {\n",
       "        text-align: right;\n",
       "    }\n",
       "</style>\n",
       "<table border=\"1\" class=\"dataframe\">\n",
       "  <thead>\n",
       "    <tr style=\"text-align: right;\">\n",
       "      <th></th>\n",
       "      <th>title</th>\n",
       "      <th>rating</th>\n",
       "    </tr>\n",
       "  </thead>\n",
       "  <tbody>\n",
       "    <tr>\n",
       "      <th>0</th>\n",
       "      <td>The Dark Knight</td>\n",
       "      <td>9.0</td>\n",
       "    </tr>\n",
       "    <tr>\n",
       "      <th>1</th>\n",
       "      <td>Inception</td>\n",
       "      <td>8.8</td>\n",
       "    </tr>\n",
       "    <tr>\n",
       "      <th>2</th>\n",
       "      <td>Interstellar</td>\n",
       "      <td>8.6</td>\n",
       "    </tr>\n",
       "  </tbody>\n",
       "</table>\n",
       "</div>"
      ],
      "text/plain": [
       "             title  rating\n",
       "0  The Dark Knight     9.0\n",
       "1        Inception     8.8\n",
       "2     Interstellar     8.6"
      ]
     },
     "execution_count": 9,
     "metadata": {},
     "output_type": "execute_result"
    }
   ],
   "source": [
    "query3 = \"SELECT title, rating FROM movies ORDER BY rating DESC LIMIT 3\"\n",
    "df3 = pd.read_sql_query(query3, conn)\n",
    "df3\n"
   ]
  },
  {
   "cell_type": "markdown",
   "id": "46cd93d9-0804-434d-8735-4c0f38174478",
   "metadata": {},
   "source": [
    "### Query 2: Count movies by genre"
   ]
  },
  {
   "cell_type": "code",
   "execution_count": 10,
   "id": "5fd8f746-ef1b-489b-a21c-cae47316e94d",
   "metadata": {},
   "outputs": [
    {
     "data": {
      "text/html": [
       "<div>\n",
       "<style scoped>\n",
       "    .dataframe tbody tr th:only-of-type {\n",
       "        vertical-align: middle;\n",
       "    }\n",
       "\n",
       "    .dataframe tbody tr th {\n",
       "        vertical-align: top;\n",
       "    }\n",
       "\n",
       "    .dataframe thead th {\n",
       "        text-align: right;\n",
       "    }\n",
       "</style>\n",
       "<table border=\"1\" class=\"dataframe\">\n",
       "  <thead>\n",
       "    <tr style=\"text-align: right;\">\n",
       "      <th></th>\n",
       "      <th>genre</th>\n",
       "      <th>movie_count</th>\n",
       "    </tr>\n",
       "  </thead>\n",
       "  <tbody>\n",
       "    <tr>\n",
       "      <th>0</th>\n",
       "      <td>Action</td>\n",
       "      <td>1</td>\n",
       "    </tr>\n",
       "    <tr>\n",
       "      <th>1</th>\n",
       "      <td>Romance</td>\n",
       "      <td>1</td>\n",
       "    </tr>\n",
       "    <tr>\n",
       "      <th>2</th>\n",
       "      <td>Sci-Fi</td>\n",
       "      <td>2</td>\n",
       "    </tr>\n",
       "    <tr>\n",
       "      <th>3</th>\n",
       "      <td>Thriller</td>\n",
       "      <td>1</td>\n",
       "    </tr>\n",
       "  </tbody>\n",
       "</table>\n",
       "</div>"
      ],
      "text/plain": [
       "      genre  movie_count\n",
       "0    Action            1\n",
       "1   Romance            1\n",
       "2    Sci-Fi            2\n",
       "3  Thriller            1"
      ]
     },
     "execution_count": 10,
     "metadata": {},
     "output_type": "execute_result"
    }
   ],
   "source": [
    "query4 = \"SELECT genre, COUNT(*) as movie_count FROM movies GROUP BY genre\"\n",
    "df4 = pd.read_sql_query(query4, conn)\n",
    "df4"
   ]
  },
  {
   "cell_type": "markdown",
   "id": "5526d307-c0ba-4301-9ddc-066977f1736a",
   "metadata": {},
   "source": [
    "## Section 3: MongoDB Basics (NoSQL)\n",
    "For this part, you’ll need MongoDB installed or use a cloud service like MongoDB Atlas.  \n",
    "We’ll use the `pymongo` library to connect and perform operations.\n"
   ]
  },
  {
   "cell_type": "code",
   "execution_count": 11,
   "id": "a9137419-9405-4fbc-9c8e-daad28bcf760",
   "metadata": {},
   "outputs": [
    {
     "name": "stdout",
     "output_type": "stream",
     "text": [
      "Collecting pymongo\n",
      "  Downloading pymongo-4.15.3-cp312-cp312-win_amd64.whl.metadata (22 kB)\n",
      "Collecting dnspython<3.0.0,>=1.16.0 (from pymongo)\n",
      "  Using cached dnspython-2.8.0-py3-none-any.whl.metadata (5.7 kB)\n",
      "Downloading pymongo-4.15.3-cp312-cp312-win_amd64.whl (910 kB)\n",
      "   ---------------------------------------- 0.0/910.9 kB ? eta -:--:--\n",
      "   ----------- ---------------------------- 262.1/910.9 kB ? eta -:--:--\n",
      "   ----------- ---------------------------- 262.1/910.9 kB ? eta -:--:--\n",
      "   ----------- ---------------------------- 262.1/910.9 kB ? eta -:--:--\n",
      "   --------------------- ---------------- 524.3/910.9 kB 541.6 kB/s eta 0:00:01\n",
      "   --------------------- ---------------- 524.3/910.9 kB 541.6 kB/s eta 0:00:01\n",
      "   --------------------- ---------------- 524.3/910.9 kB 541.6 kB/s eta 0:00:01\n",
      "   -------------------------------- ----- 786.4/910.9 kB 424.9 kB/s eta 0:00:01\n",
      "   -------------------------------- ----- 786.4/910.9 kB 424.9 kB/s eta 0:00:01\n",
      "   -------------------------------------- 910.9/910.9 kB 381.0 kB/s eta 0:00:00\n",
      "Using cached dnspython-2.8.0-py3-none-any.whl (331 kB)\n",
      "Installing collected packages: dnspython, pymongo\n",
      "Successfully installed dnspython-2.8.0 pymongo-4.15.3\n"
     ]
    }
   ],
   "source": [
    "# Uncomment and install PyMongo if needed\n",
    "!pip install pymongo\n"
   ]
  },
  {
   "cell_type": "markdown",
   "id": "07d90476-1ff3-4d50-9b46-e187850adbb8",
   "metadata": {},
   "source": [
    "### Connect to MongoDB and Insert Documents"
   ]
  },
  {
   "cell_type": "code",
   "execution_count": 13,
   "id": "8278f58d-0a7b-42f7-9198-665b39b23585",
   "metadata": {},
   "outputs": [
    {
     "data": {
      "text/plain": [
       "InsertManyResult([ObjectId('68ede31aea1edfb40526a126'), ObjectId('68ede31aea1edfb40526a127'), ObjectId('68ede31aea1edfb40526a128'), ObjectId('68ede31aea1edfb40526a129')], acknowledged=True)"
      ]
     },
     "execution_count": 13,
     "metadata": {},
     "output_type": "execute_result"
    }
   ],
   "source": [
    "from pymongo import MongoClient\n",
    "\n",
    "# Connect to local MongoDB (make sure MongoDB is running)\n",
    "client = MongoClient(\"mongodb://localhost:27017/\")\n",
    "\n",
    "# Create or access database\n",
    "db = client[\"week6_demo\"]\n",
    "\n",
    "# Create or access collection\n",
    "collection = db[\"users\"]\n",
    "\n",
    "# Insert sample JSON-like documents\n",
    "users_data = [\n",
    "    {\"name\": \"John\", \"age\": 25, \"skills\": [\"Python\", \"SQL\"]},\n",
    "    {\"name\": \"Sara\", \"age\": 28, \"skills\": [\"R\", \"Machine Learning\"]},\n",
    "    {\"name\": \"Tom\", \"age\": 22, \"skills\": [\"Python\", \"MongoDB\"]},\n",
    "    {\"name\": \"Lily\", \"age\": 30, \"skills\": [\"C++\", \"Java\"]}\n",
    "]\n",
    "\n",
    "collection.insert_many(users_data)\n"
   ]
  },
  {
   "cell_type": "markdown",
   "id": "a6bab8f0-8add-4d89-af32-0a1cc22ae3c4",
   "metadata": {},
   "source": [
    "### Query: Find all users with skill = \"Python\""
   ]
  },
  {
   "cell_type": "code",
   "execution_count": 14,
   "id": "f7a862ac-3860-43ce-a1d6-dad7cf40ae64",
   "metadata": {},
   "outputs": [
    {
     "name": "stdout",
     "output_type": "stream",
     "text": [
      "{'_id': ObjectId('68ede31aea1edfb40526a126'), 'name': 'John', 'age': 25, 'skills': ['Python', 'SQL']}\n",
      "{'_id': ObjectId('68ede31aea1edfb40526a128'), 'name': 'Tom', 'age': 22, 'skills': ['Python', 'MongoDB']}\n"
     ]
    }
   ],
   "source": [
    "python_users = collection.find({\"skills\": \"Python\"})\n",
    "for user in python_users:\n",
    "    print(user)\n"
   ]
  },
  {
   "cell_type": "markdown",
   "id": "e2842737-496f-46e0-b2f4-aa92dfb93d1f",
   "metadata": {},
   "source": [
    "## Summary\n",
    "In this notebook, you:\n",
    "- Practiced SQL basics: SELECT, WHERE, GROUP BY, JOIN  \n",
    "- Created and queried SQLite databases  \n",
    "- Learned MongoDB basics with PyMongo  \n",
    "- Practiced NoSQL document insertion and queries  \n",
    "\n",
    "You now have a foundational understanding of **SQL and NoSQL** for data handling and analysis.\n"
   ]
  },
  {
   "cell_type": "code",
   "execution_count": null,
   "id": "375960e0-7ec2-4505-ac08-b9a9c53b888d",
   "metadata": {},
   "outputs": [],
   "source": []
  }
 ],
 "metadata": {
  "kernelspec": {
   "display_name": "Python 3 (ipykernel)",
   "language": "python",
   "name": "python3"
  },
  "language_info": {
   "codemirror_mode": {
    "name": "ipython",
    "version": 3
   },
   "file_extension": ".py",
   "mimetype": "text/x-python",
   "name": "python",
   "nbconvert_exporter": "python",
   "pygments_lexer": "ipython3",
   "version": "3.12.7"
  }
 },
 "nbformat": 4,
 "nbformat_minor": 5
}
