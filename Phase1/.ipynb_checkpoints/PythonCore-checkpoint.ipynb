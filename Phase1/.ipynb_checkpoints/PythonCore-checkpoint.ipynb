{
 "cells": [
  {
   "cell_type": "markdown",
   "id": "4711ad86-7541-4fea-b745-0f6e0b7a14c5",
   "metadata": {},
   "source": [
    "## Python Core\n",
    "1. Variables, data types, input/output\n",
    "2. Data structures: list, dict, set, tuple\n",
    "3. Loops & conditionals\n",
    "4. Functions (with arguments, return values)\n",
    "5. Error handling (try-except)"
   ]
  },
  {
   "cell_type": "markdown",
   "id": "5f815e7d-32a0-4cdd-9ed9-142539dbc081",
   "metadata": {},
   "source": [
    "## Variables\n",
    "- containers to store data\n",
    "- Python supports several data types: int, float, str, bool"
   ]
  },
  {
   "cell_type": "code",
   "execution_count": 2,
   "id": "83b032e1-22f3-4b67-9320-8563d07e1760",
   "metadata": {},
   "outputs": [
    {
     "name": "stdout",
     "output_type": "stream",
     "text": [
      "10 3.14 Siri True\n",
      "<class 'int'> <class 'float'> <class 'str'> <class 'bool'>\n"
     ]
    }
   ],
   "source": [
    "x = 10           # int\n",
    "y = 3.14         # float\n",
    "name = \"Siri\"    # string\n",
    "is_active = True # boolean\n",
    "\n",
    "print(x, y, name, is_active)\n",
    "print(type(x), type(y), type(name), type(is_active))"
   ]
  },
  {
   "cell_type": "markdown",
   "id": "890f5c89-1efc-46f3-a2b9-49a4e3b9dd48",
   "metadata": {},
   "source": [
    "## Data Structures\n",
    "### List\n",
    "- Ordered, mutable collection('[]')\n",
    "### Tuples\n",
    "- Ordered, immutable('()')\n",
    "### Sets\n",
    "- Unordered, unique elements('{}')\n",
    "### Dictionaries\n",
    "- Key-value pairs('{}')\n"
   ]
  },
  {
   "cell_type": "code",
   "execution_count": 5,
   "id": "6570c7dd-5868-4e7d-8932-02b7953430d8",
   "metadata": {},
   "outputs": [
    {
     "name": "stdout",
     "output_type": "stream",
     "text": [
      "List:\n",
      "['apple', 'banana', 'cherry', 'mango']\n",
      "banana\n",
      "\n",
      "Tuple:\n",
      "(1, 2, 3, 4)\n",
      "3\n",
      "\n",
      "Set:\n",
      "{'red', 'yellow', 'green', 'blue'}\n",
      "\n",
      "Dictionary:\n",
      "{'name': 'Siri', 'age': 25, 'marks': 90}\n",
      "Siri\n",
      "{'name': 'Siri', 'age': 25, 'marks': 95}\n"
     ]
    }
   ],
   "source": [
    "print(\"List:\")\n",
    "fruits = [\"apple\", \"banana\", \"cherry\"]\n",
    "fruits.append(\"mango\")\n",
    "print(fruits)\n",
    "print(fruits[1])\n",
    "\n",
    "print(\"\\nTuple:\")\n",
    "numbers = (1, 2, 3, 4)\n",
    "print(numbers)\n",
    "print(numbers[2])\n",
    "\n",
    "print(\"\\nSet:\")\n",
    "colors = {\"red\", \"blue\", \"green\"}\n",
    "colors.add(\"yellow\")\n",
    "print(colors)\n",
    "\n",
    "print(\"\\nDictionary:\")\n",
    "student = {\"name\": \"Siri\", \"age\": 25, \"marks\": 90}\n",
    "print(student)\n",
    "print(student[\"name\"])\n",
    "student[\"marks\"] = 95\n",
    "print(student)"
   ]
  },
  {
   "cell_type": "markdown",
   "id": "834f53db-0058-439e-b7ec-69b0acfe7289",
   "metadata": {},
   "source": [
    "## Loops & Conditions"
   ]
  },
  {
   "cell_type": "code",
   "execution_count": 6,
   "id": "7ebc1f7f-0ef5-497a-bde7-46a76a75108f",
   "metadata": {},
   "outputs": [
    {
     "name": "stdout",
     "output_type": "stream",
     "text": [
      "Number: 0\n",
      "Number: 1\n",
      "Number: 2\n",
      "Number: 3\n",
      "Number: 4\n"
     ]
    }
   ],
   "source": [
    "# For loop\n",
    "for i in range(5):\n",
    "    print(\"Number:\", i)"
   ]
  },
  {
   "cell_type": "code",
   "execution_count": 7,
   "id": "2259f23a-ab9c-4ba1-8ef1-1478970fbd90",
   "metadata": {},
   "outputs": [
    {
     "name": "stdout",
     "output_type": "stream",
     "text": [
      "Count: 0\n",
      "Count: 1\n",
      "Count: 2\n"
     ]
    }
   ],
   "source": [
    "# While loop\n",
    "count = 0\n",
    "while count < 3:\n",
    "    print(\"Count:\", count)\n",
    "    count += 1"
   ]
  },
  {
   "cell_type": "code",
   "execution_count": 8,
   "id": "40134f26-e83f-4a71-8823-565ccc201f49",
   "metadata": {},
   "outputs": [
    {
     "name": "stdout",
     "output_type": "stream",
     "text": [
      "Adult\n"
     ]
    }
   ],
   "source": [
    "# Conditional statements\n",
    "age = 20\n",
    "if age >= 18:\n",
    "    print(\"Adult\")\n",
    "else:\n",
    "    print(\"Minor\")"
   ]
  },
  {
   "cell_type": "markdown",
   "id": "ed4ec132-3708-4359-8141-39b35b7e8344",
   "metadata": {},
   "source": [
    "## Functions"
   ]
  },
  {
   "cell_type": "code",
   "execution_count": 9,
   "id": "13aa6028-9d5c-4763-8055-e4f7e4c66fc1",
   "metadata": {},
   "outputs": [
    {
     "name": "stdout",
     "output_type": "stream",
     "text": [
      "Hello, Siri!\n",
      "15\n"
     ]
    }
   ],
   "source": [
    "# Functions are reusable blocks of code\n",
    "def greet(name):\n",
    "    return f\"Hello, {name}!\"\n",
    "\n",
    "print(greet(\"Siri\"))\n",
    "\n",
    "# Function with multiple arguments\n",
    "def add(a, b):\n",
    "    return a + b\n",
    "\n",
    "print(add(10, 5))"
   ]
  },
  {
   "cell_type": "markdown",
   "id": "bc24c52b-39e9-47b1-88ca-2612d257b4c3",
   "metadata": {},
   "source": [
    "## Error Handling"
   ]
  },
  {
   "cell_type": "code",
   "execution_count": 14,
   "id": "9c7fdb57-f02e-44cf-a44e-eadda14f4a10",
   "metadata": {},
   "outputs": [
    {
     "name": "stdin",
     "output_type": "stream",
     "text": [
      "Enter a number:  4\n"
     ]
    },
    {
     "name": "stdout",
     "output_type": "stream",
     "text": [
      "2.5\n",
      "Executes if except blocks does not catch any exception\n",
      "Always Executed\n"
     ]
    }
   ],
   "source": [
    "# Handling errors with try-except\n",
    "try:\n",
    "    x = int(input(\"Enter a number: \"))\n",
    "    print(10 / x)\n",
    "except ZeroDivisionError:\n",
    "    print(\"Cannot divide by zero!\")\n",
    "except ValueError:\n",
    "    print(\"Invalid input, enter a number\")\n",
    "else:\n",
    "    print(\"Executes if except blocks does not catch any exception\")\n",
    "finally:\n",
    "    print(\"Always Executed\")"
   ]
  },
  {
   "cell_type": "markdown",
   "id": "98b6ca01-7e5f-41f4-ac57-fbbf2ba33a88",
   "metadata": {},
   "source": [
    "## Exercises"
   ]
  },
  {
   "cell_type": "code",
   "execution_count": 20,
   "id": "4e155cf4-1261-464e-9f9c-656971e7898f",
   "metadata": {},
   "outputs": [
    {
     "name": "stdout",
     "output_type": "stream",
     "text": [
      "String Reverse:  nohtyP\n"
     ]
    }
   ],
   "source": [
    "# Reverse a string\n",
    "def reverse_string(s):\n",
    "    return s[::-1]\n",
    "\n",
    "print(\"String Reverse: \",reverse_string(\"Python\"))"
   ]
  },
  {
   "cell_type": "code",
   "execution_count": 21,
   "id": "3e184e17-ad5c-4cea-bc94-8fcf4c5b9449",
   "metadata": {},
   "outputs": [
    {
     "name": "stdout",
     "output_type": "stream",
     "text": [
      "Fatcorial:  120\n"
     ]
    }
   ],
   "source": [
    "# Find factorial of a number\n",
    "def factorial(n):\n",
    "    result = 1\n",
    "    for i in range(1, n+1):\n",
    "        result *= i\n",
    "    return result\n",
    "\n",
    "print(\"Fatcorial: \",factorial(5))"
   ]
  },
  {
   "cell_type": "code",
   "execution_count": 22,
   "id": "935206b8-1960-482a-bf1a-b27f565a3cca",
   "metadata": {},
   "outputs": [
    {
     "name": "stdout",
     "output_type": "stream",
     "text": [
      "{'Python': 2, 'is': 2, 'fun': 1, 'and': 1, 'easy': 1}\n"
     ]
    }
   ],
   "source": [
    "# Count frequency of words in a sentence\n",
    "sentence = \"Python is fun and Python is easy\"\n",
    "words = sentence.split()\n",
    "freq = {}\n",
    "for word in words:\n",
    "    freq[word] = freq.get(word, 0) + 1\n",
    "print(freq)"
   ]
  },
  {
   "cell_type": "code",
   "execution_count": 23,
   "id": "992d0cf9-2c89-4c87-b4eb-cd5108f47caa",
   "metadata": {},
   "outputs": [
    {
     "name": "stdout",
     "output_type": "stream",
     "text": [
      "50\n"
     ]
    }
   ],
   "source": [
    "# Simple calculator\n",
    "def calculator(a, b, op):\n",
    "    if op == \"add\":\n",
    "        return a + b\n",
    "    elif op == \"sub\":\n",
    "        return a - b\n",
    "    elif op == \"mul\":\n",
    "        return a * b\n",
    "    elif op == \"div\":\n",
    "        return a / b\n",
    "    else:\n",
    "        return \"Invalid operation\"\n",
    "\n",
    "print(calculator(10, 5, \"mul\"))"
   ]
  },
  {
   "cell_type": "code",
   "execution_count": 24,
   "id": "b8877d99-f131-4e3d-84e1-dc494f95ba8a",
   "metadata": {},
   "outputs": [
    {
     "name": "stdout",
     "output_type": "stream",
     "text": [
      "Second largest: 30\n"
     ]
    }
   ],
   "source": [
    "# Second largest number in a list\n",
    "nums = [10, 25, 5, 40, 30]\n",
    "nums.sort()\n",
    "print(\"Second largest:\", nums[-2])"
   ]
  },
  {
   "cell_type": "code",
   "execution_count": 26,
   "id": "d4a42d31-d1e0-401b-9e3c-8eea132e255d",
   "metadata": {},
   "outputs": [
    {
     "name": "stdout",
     "output_type": "stream",
     "text": [
      "Topper: John\n"
     ]
    }
   ],
   "source": [
    "\n",
    "# Dictionary of students and marks, find topper\n",
    "students = {\"Siri\": 90, \"Alex\": 85, \"John\": 95}\n",
    "topper = max(students, key=students.get)\n",
    "print(\"Topper:\", topper)"
   ]
  },
  {
   "cell_type": "code",
   "execution_count": 27,
   "id": "020f1e33-c78b-40c0-856a-8494659850ad",
   "metadata": {},
   "outputs": [
    {
     "name": "stdout",
     "output_type": "stream",
     "text": [
      "[1, 2, 3, 4, 5]\n"
     ]
    }
   ],
   "source": [
    "\n",
    "# Remove duplicates from a list using set\n",
    "nums = [1, 2, 2, 3, 4, 4, 5]\n",
    "unique_nums = list(set(nums))\n",
    "print(unique_nums)"
   ]
  },
  {
   "cell_type": "code",
   "execution_count": null,
   "id": "01ae56e7-fb3c-4b36-bb47-579a9f6390e1",
   "metadata": {},
   "outputs": [],
   "source": []
  }
 ],
 "metadata": {
  "kernelspec": {
   "display_name": "Python 3 (ipykernel)",
   "language": "python",
   "name": "python3"
  },
  "language_info": {
   "codemirror_mode": {
    "name": "ipython",
    "version": 3
   },
   "file_extension": ".py",
   "mimetype": "text/x-python",
   "name": "python",
   "nbconvert_exporter": "python",
   "pygments_lexer": "ipython3",
   "version": "3.13.7"
  }
 },
 "nbformat": 4,
 "nbformat_minor": 5
}
