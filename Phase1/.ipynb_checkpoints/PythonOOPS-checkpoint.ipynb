{
 "cells": [
  {
   "cell_type": "markdown",
   "id": "8b47a2da-692a-4159-85ad-5462af168dbd",
   "metadata": {},
   "source": [
    "# Python OOP + Libraries\n",
    "\n",
    "This notebook covers **Python Object-Oriented Programming (OOP)**, **File Handling**, and Python libraries: **NumPy, Pandas, Matplotlib, and Seaborn**.  \n",
    "It includes detailed explanations and hands-on exercises.\n",
    "\n",
    "---\n",
    "\n",
    "## 1. Python Object-Oriented Programming (OOP)\n",
    "\n",
    "OOP is a programming paradigm that uses **classes** and **objects** to structure code.  \n",
    "Key concepts:  \n",
    "- **Class**: Blueprint for objects  \n",
    "- **Object**: Instance of a class  \n",
    "- **Inheritance**: Reuse functionality from another class  \n",
    "- **Polymorphism**: Same interface, different behavior  \n",
    "- **Encapsulation**: Hiding internal data using private attributes/methods\n",
    "\n",
    "---\n",
    "\n",
    "### 1.1 Classes & Objects"
   ]
  },
  {
   "cell_type": "code",
   "execution_count": 3,
   "id": "da3dbb1d-8906-4e3a-8dc1-8f2ba8c8862c",
   "metadata": {},
   "outputs": [
    {
     "name": "stdout",
     "output_type": "stream",
     "text": [
      "Hello, my name is Alice and I am 25 years old.\n"
     ]
    }
   ],
   "source": [
    "# Define a simple class\n",
    "class Person:\n",
    "    def __init__(self, name, age):\n",
    "        self.name = name  # public attribute\n",
    "        self.age = age\n",
    "\n",
    "    def greet(self):\n",
    "        print(f\"Hello, my name is {self.name} and I am {self.age} years old.\")\n",
    "\n",
    "# Create an object\n",
    "p1 = Person(\"Alice\", 25)\n",
    "p1.greet()\n"
   ]
  },
  {
   "cell_type": "markdown",
   "id": "e5f69fb9-b634-4ce8-9d91-d4930269ab42",
   "metadata": {},
   "source": [
    "---\n",
    "\n",
    "### 1.2 Inheritance & Polymorphism\n"
   ]
  },
  {
   "cell_type": "code",
   "execution_count": 5,
   "id": "cfce52df-8402-4866-85d4-65133bfd9c0f",
   "metadata": {},
   "outputs": [
    {
     "name": "stdout",
     "output_type": "stream",
     "text": [
      "Animal makes a sound\n",
      "Dog barks\n"
     ]
    }
   ],
   "source": [
    "# Base class\n",
    "class Animal:\n",
    "    def speak(self):\n",
    "        print(\"Animal makes a sound\")\n",
    "\n",
    "# Derived class\n",
    "class Dog(Animal):\n",
    "    def speak(self):\n",
    "        print(\"Dog barks\")\n",
    "\n",
    "# Polymorphism example\n",
    "a = Animal()\n",
    "d = Dog()\n",
    "for animal in (a, d):\n",
    "    animal.speak()\n"
   ]
  },
  {
   "cell_type": "markdown",
   "id": "06cac27a-099d-418e-a86f-3f501d7c2cc4",
   "metadata": {},
   "source": [
    "---\n",
    "\n",
    "### 1.3 Encapsulation\n"
   ]
  },
  {
   "cell_type": "code",
   "execution_count": 6,
   "id": "30f18125-f480-4f8f-a6cb-033f5742a53a",
   "metadata": {},
   "outputs": [
    {
     "name": "stdout",
     "output_type": "stream",
     "text": [
      "Deposited: $500\n",
      "Withdrawn: $200\n",
      "Balance: $1300\n",
      "Insufficient balance!\n"
     ]
    }
   ],
   "source": [
    "class BankAccount:\n",
    "    def __init__(self, owner, balance=0):\n",
    "        self.owner = owner\n",
    "        self.__balance = balance  # private attribute\n",
    "\n",
    "    def deposit(self, amount):\n",
    "        self.__balance += amount\n",
    "        print(f\"Deposited: ${amount}\")\n",
    "\n",
    "    def withdraw(self, amount):\n",
    "        if amount > self.__balance:\n",
    "            print(\"Insufficient balance!\")\n",
    "        else:\n",
    "            self.__balance -= amount\n",
    "            print(f\"Withdrawn: ${amount}\")\n",
    "\n",
    "    def check_balance(self):\n",
    "        print(f\"Balance: ${self.__balance}\")\n",
    "\n",
    "# Hands-on\n",
    "account = BankAccount(\"John\", 1000)\n",
    "account.deposit(500)\n",
    "account.withdraw(200)\n",
    "account.check_balance()\n",
    "account.withdraw(2000)  # Test insufficient balance\n"
   ]
  },
  {
   "cell_type": "markdown",
   "id": "403424de-12dc-4489-b57d-8cd197d11dd2",
   "metadata": {},
   "source": [
    "---\n",
    "\n",
    "## 2️⃣ File Handling\n",
    "\n",
    "Python provides `open()` to work with files.\n",
    "\n",
    "Modes:  \n",
    "- `'r'` → read  \n",
    "- `'w'` → write (overwrite)  \n",
    "- `'a'` → append  \n",
    "- `'rb' / 'wb'` → binary modes\n",
    "\n"
   ]
  },
  {
   "cell_type": "code",
   "execution_count": 7,
   "id": "9c088858-77c4-4f47-bcd8-95ff11242f8e",
   "metadata": {},
   "outputs": [
    {
     "name": "stdout",
     "output_type": "stream",
     "text": [
      "Hello, this is a sample file.\n",
      "Python file handling is easy!\n",
      "\n"
     ]
    }
   ],
   "source": [
    "# Writing to a file\n",
    "with open(\"example.txt\", \"w\") as f:\n",
    "    f.write(\"Hello, this is a sample file.\\n\")\n",
    "    f.write(\"Python file handling is easy!\\n\")\n",
    "\n",
    "# Reading from a file\n",
    "with open(\"example.txt\", \"r\") as f:\n",
    "    content = f.read()\n",
    "print(content)\n"
   ]
  },
  {
   "cell_type": "markdown",
   "id": "edc685f8-e2ca-4c8e-b1c8-3e3226197052",
   "metadata": {},
   "source": [
    "---\n",
    "\n",
    "## 3️⃣ NumPy: Arrays & Operations\n",
    "\n",
    "NumPy is used for **efficient numerical computation**."
   ]
  },
  {
   "cell_type": "code",
   "execution_count": 11,
   "id": "59d104a6-4458-4c00-8f60-4415059cc5e2",
   "metadata": {},
   "outputs": [
    {
     "name": "stdout",
     "output_type": "stream",
     "text": [
      "Matrix:\n",
      " [[0.17291301 0.03017392 0.69899846 0.12882782 0.90888592]\n",
      " [0.2037233  0.21842824 0.59416675 0.23837577 0.22738304]\n",
      " [0.29251026 0.98878389 0.26357328 0.31605396 0.51845204]\n",
      " [0.39710689 0.22895553 0.79208718 0.2586955  0.63074889]\n",
      " [0.59185492 0.56300986 0.77542636 0.59452111 0.76741118]]\n",
      "\n",
      "Transpose:\n",
      " [[0.17291301 0.2037233  0.29251026 0.39710689 0.59185492]\n",
      " [0.03017392 0.21842824 0.98878389 0.22895553 0.56300986]\n",
      " [0.69899846 0.59416675 0.26357328 0.79208718 0.77542636]\n",
      " [0.12882782 0.23837577 0.31605396 0.2586955  0.59452111]\n",
      " [0.90888592 0.22738304 0.51845204 0.63074889 0.76741118]]\n",
      "\n",
      "Dot Product:\n",
      " [[1.36207845 0.69451356 0.77658194 1.23584712 1.43542954]\n",
      " [0.69451356 0.55077427 0.62540277 0.80663049 1.02050017]\n",
      " [0.77658194 0.62540277 1.50140932 0.96009318 1.51996703]\n",
      " [1.23584712 0.80663049 0.96009318 1.30228414 1.61598285]\n",
      " [1.43542954 1.02050017 1.51996703 1.61598285 2.21093366]]\n"
     ]
    }
   ],
   "source": [
    "import numpy as np\n",
    "\n",
    "# Generate a 5x5 matrix of random numbers\n",
    "matrix = np.random.rand(5,5)\n",
    "print(\"Matrix:\\n\", matrix)\n",
    "\n",
    "# Transpose\n",
    "print(\"\\nTranspose:\\n\", matrix.T)\n",
    "\n",
    "# Dot product\n",
    "dot_product = np.dot(matrix, matrix.T)\n",
    "print(\"\\nDot Product:\\n\", dot_product)\n"
   ]
  },
  {
   "cell_type": "markdown",
   "id": "3120084d-e537-49b1-9a6c-299f475f8ed2",
   "metadata": {},
   "source": [
    "---\n",
    "\n",
    "## 4️⃣ Pandas: DataFrames & Data Analysis\n",
    "\n",
    "Pandas is used for **data manipulation and analysis**.\n",
    "\n"
   ]
  },
  {
   "cell_type": "code",
   "execution_count": 15,
   "id": "bef94484-c0d0-46a9-8bd9-065080390715",
   "metadata": {},
   "outputs": [
    {
     "data": {
      "text/html": [
       "<div>\n",
       "<style scoped>\n",
       "    .dataframe tbody tr th:only-of-type {\n",
       "        vertical-align: middle;\n",
       "    }\n",
       "\n",
       "    .dataframe tbody tr th {\n",
       "        vertical-align: top;\n",
       "    }\n",
       "\n",
       "    .dataframe thead th {\n",
       "        text-align: right;\n",
       "    }\n",
       "</style>\n",
       "<table border=\"1\" class=\"dataframe\">\n",
       "  <thead>\n",
       "    <tr style=\"text-align: right;\">\n",
       "      <th></th>\n",
       "      <th>PassengerId</th>\n",
       "      <th>Survived</th>\n",
       "      <th>Pclass</th>\n",
       "      <th>Name</th>\n",
       "      <th>Sex</th>\n",
       "      <th>Age</th>\n",
       "      <th>SibSp</th>\n",
       "      <th>Parch</th>\n",
       "      <th>Ticket</th>\n",
       "      <th>Fare</th>\n",
       "      <th>Cabin</th>\n",
       "      <th>Embarked</th>\n",
       "    </tr>\n",
       "  </thead>\n",
       "  <tbody>\n",
       "    <tr>\n",
       "      <th>0</th>\n",
       "      <td>1</td>\n",
       "      <td>0</td>\n",
       "      <td>3</td>\n",
       "      <td>Braund, Mr. Owen Harris</td>\n",
       "      <td>male</td>\n",
       "      <td>22.0</td>\n",
       "      <td>1</td>\n",
       "      <td>0</td>\n",
       "      <td>A/5 21171</td>\n",
       "      <td>7.2500</td>\n",
       "      <td>NaN</td>\n",
       "      <td>S</td>\n",
       "    </tr>\n",
       "    <tr>\n",
       "      <th>1</th>\n",
       "      <td>2</td>\n",
       "      <td>1</td>\n",
       "      <td>1</td>\n",
       "      <td>Cumings, Mrs. John Bradley (Florence Briggs Th...</td>\n",
       "      <td>female</td>\n",
       "      <td>38.0</td>\n",
       "      <td>1</td>\n",
       "      <td>0</td>\n",
       "      <td>PC 17599</td>\n",
       "      <td>71.2833</td>\n",
       "      <td>C85</td>\n",
       "      <td>C</td>\n",
       "    </tr>\n",
       "    <tr>\n",
       "      <th>2</th>\n",
       "      <td>3</td>\n",
       "      <td>1</td>\n",
       "      <td>3</td>\n",
       "      <td>Heikkinen, Miss. Laina</td>\n",
       "      <td>female</td>\n",
       "      <td>26.0</td>\n",
       "      <td>0</td>\n",
       "      <td>0</td>\n",
       "      <td>STON/O2. 3101282</td>\n",
       "      <td>7.9250</td>\n",
       "      <td>NaN</td>\n",
       "      <td>S</td>\n",
       "    </tr>\n",
       "    <tr>\n",
       "      <th>3</th>\n",
       "      <td>4</td>\n",
       "      <td>1</td>\n",
       "      <td>1</td>\n",
       "      <td>Futrelle, Mrs. Jacques Heath (Lily May Peel)</td>\n",
       "      <td>female</td>\n",
       "      <td>35.0</td>\n",
       "      <td>1</td>\n",
       "      <td>0</td>\n",
       "      <td>113803</td>\n",
       "      <td>53.1000</td>\n",
       "      <td>C123</td>\n",
       "      <td>S</td>\n",
       "    </tr>\n",
       "    <tr>\n",
       "      <th>4</th>\n",
       "      <td>5</td>\n",
       "      <td>0</td>\n",
       "      <td>3</td>\n",
       "      <td>Allen, Mr. William Henry</td>\n",
       "      <td>male</td>\n",
       "      <td>35.0</td>\n",
       "      <td>0</td>\n",
       "      <td>0</td>\n",
       "      <td>373450</td>\n",
       "      <td>8.0500</td>\n",
       "      <td>NaN</td>\n",
       "      <td>S</td>\n",
       "    </tr>\n",
       "  </tbody>\n",
       "</table>\n",
       "</div>"
      ],
      "text/plain": [
       "   PassengerId  Survived  Pclass  \\\n",
       "0            1         0       3   \n",
       "1            2         1       1   \n",
       "2            3         1       3   \n",
       "3            4         1       1   \n",
       "4            5         0       3   \n",
       "\n",
       "                                                Name     Sex   Age  SibSp  \\\n",
       "0                            Braund, Mr. Owen Harris    male  22.0      1   \n",
       "1  Cumings, Mrs. John Bradley (Florence Briggs Th...  female  38.0      1   \n",
       "2                             Heikkinen, Miss. Laina  female  26.0      0   \n",
       "3       Futrelle, Mrs. Jacques Heath (Lily May Peel)  female  35.0      1   \n",
       "4                           Allen, Mr. William Henry    male  35.0      0   \n",
       "\n",
       "   Parch            Ticket     Fare Cabin Embarked  \n",
       "0      0         A/5 21171   7.2500   NaN        S  \n",
       "1      0          PC 17599  71.2833   C85        C  \n",
       "2      0  STON/O2. 3101282   7.9250   NaN        S  \n",
       "3      0            113803  53.1000  C123        S  \n",
       "4      0            373450   8.0500   NaN        S  "
      ]
     },
     "execution_count": 15,
     "metadata": {},
     "output_type": "execute_result"
    }
   ],
   "source": [
    "import pandas as pd\n",
    "\n",
    "# Load Titanic dataset\n",
    "url = \"https://raw.githubusercontent.com/datasciencedojo/datasets/master/titanic.csv\"\n",
    "df = pd.read_csv(url)\n",
    "\n",
    "# Display first 5 rows\n",
    "df.head()\n"
   ]
  },
  {
   "cell_type": "code",
   "execution_count": 23,
   "id": "48785115-d45e-4c39-99c5-68b1941c83a8",
   "metadata": {},
   "outputs": [
    {
     "data": {
      "text/html": [
       "<div>\n",
       "<style scoped>\n",
       "    .dataframe tbody tr th:only-of-type {\n",
       "        vertical-align: middle;\n",
       "    }\n",
       "\n",
       "    .dataframe tbody tr th {\n",
       "        vertical-align: top;\n",
       "    }\n",
       "\n",
       "    .dataframe thead th {\n",
       "        text-align: right;\n",
       "    }\n",
       "</style>\n",
       "<table border=\"1\" class=\"dataframe\">\n",
       "  <thead>\n",
       "    <tr style=\"text-align: right;\">\n",
       "      <th></th>\n",
       "      <th>PassengerId</th>\n",
       "      <th>Survived</th>\n",
       "      <th>Pclass</th>\n",
       "      <th>Age</th>\n",
       "      <th>SibSp</th>\n",
       "      <th>Parch</th>\n",
       "      <th>Fare</th>\n",
       "    </tr>\n",
       "  </thead>\n",
       "  <tbody>\n",
       "    <tr>\n",
       "      <th>count</th>\n",
       "      <td>891.000000</td>\n",
       "      <td>891.000000</td>\n",
       "      <td>891.000000</td>\n",
       "      <td>891.000000</td>\n",
       "      <td>891.000000</td>\n",
       "      <td>891.000000</td>\n",
       "      <td>891.000000</td>\n",
       "    </tr>\n",
       "    <tr>\n",
       "      <th>mean</th>\n",
       "      <td>446.000000</td>\n",
       "      <td>0.383838</td>\n",
       "      <td>2.308642</td>\n",
       "      <td>29.699118</td>\n",
       "      <td>0.523008</td>\n",
       "      <td>0.381594</td>\n",
       "      <td>32.204208</td>\n",
       "    </tr>\n",
       "    <tr>\n",
       "      <th>std</th>\n",
       "      <td>257.353842</td>\n",
       "      <td>0.486592</td>\n",
       "      <td>0.836071</td>\n",
       "      <td>13.002015</td>\n",
       "      <td>1.102743</td>\n",
       "      <td>0.806057</td>\n",
       "      <td>49.693429</td>\n",
       "    </tr>\n",
       "    <tr>\n",
       "      <th>min</th>\n",
       "      <td>1.000000</td>\n",
       "      <td>0.000000</td>\n",
       "      <td>1.000000</td>\n",
       "      <td>0.420000</td>\n",
       "      <td>0.000000</td>\n",
       "      <td>0.000000</td>\n",
       "      <td>0.000000</td>\n",
       "    </tr>\n",
       "    <tr>\n",
       "      <th>25%</th>\n",
       "      <td>223.500000</td>\n",
       "      <td>0.000000</td>\n",
       "      <td>2.000000</td>\n",
       "      <td>22.000000</td>\n",
       "      <td>0.000000</td>\n",
       "      <td>0.000000</td>\n",
       "      <td>7.910400</td>\n",
       "    </tr>\n",
       "    <tr>\n",
       "      <th>50%</th>\n",
       "      <td>446.000000</td>\n",
       "      <td>0.000000</td>\n",
       "      <td>3.000000</td>\n",
       "      <td>29.699118</td>\n",
       "      <td>0.000000</td>\n",
       "      <td>0.000000</td>\n",
       "      <td>14.454200</td>\n",
       "    </tr>\n",
       "    <tr>\n",
       "      <th>75%</th>\n",
       "      <td>668.500000</td>\n",
       "      <td>1.000000</td>\n",
       "      <td>3.000000</td>\n",
       "      <td>35.000000</td>\n",
       "      <td>1.000000</td>\n",
       "      <td>0.000000</td>\n",
       "      <td>31.000000</td>\n",
       "    </tr>\n",
       "    <tr>\n",
       "      <th>max</th>\n",
       "      <td>891.000000</td>\n",
       "      <td>1.000000</td>\n",
       "      <td>3.000000</td>\n",
       "      <td>80.000000</td>\n",
       "      <td>8.000000</td>\n",
       "      <td>6.000000</td>\n",
       "      <td>512.329200</td>\n",
       "    </tr>\n",
       "  </tbody>\n",
       "</table>\n",
       "</div>"
      ],
      "text/plain": [
       "       PassengerId    Survived      Pclass         Age       SibSp  \\\n",
       "count   891.000000  891.000000  891.000000  891.000000  891.000000   \n",
       "mean    446.000000    0.383838    2.308642   29.699118    0.523008   \n",
       "std     257.353842    0.486592    0.836071   13.002015    1.102743   \n",
       "min       1.000000    0.000000    1.000000    0.420000    0.000000   \n",
       "25%     223.500000    0.000000    2.000000   22.000000    0.000000   \n",
       "50%     446.000000    0.000000    3.000000   29.699118    0.000000   \n",
       "75%     668.500000    1.000000    3.000000   35.000000    1.000000   \n",
       "max     891.000000    1.000000    3.000000   80.000000    8.000000   \n",
       "\n",
       "            Parch        Fare  \n",
       "count  891.000000  891.000000  \n",
       "mean     0.381594   32.204208  \n",
       "std      0.806057   49.693429  \n",
       "min      0.000000    0.000000  \n",
       "25%      0.000000    7.910400  \n",
       "50%      0.000000   14.454200  \n",
       "75%      0.000000   31.000000  \n",
       "max      6.000000  512.329200  "
      ]
     },
     "execution_count": 23,
     "metadata": {},
     "output_type": "execute_result"
    }
   ],
   "source": [
    "# Clean missing values\n",
    "df['Embarked'].fillna(\"Unknown\",inplace=True)\n",
    "\n",
    "# Summary statistics\n",
    "df.describe()"
   ]
  },
  {
   "cell_type": "markdown",
   "id": "e5a52632-d800-4187-895b-f215719f5c93",
   "metadata": {},
   "source": [
    "---\n",
    "\n",
    "## 5️⃣ Visualization: Matplotlib & Seaborn\n",
    "\n",
    "### 5.1 Bar chart of passengers by class\n"
   ]
  },
  {
   "cell_type": "code",
   "execution_count": 27,
   "id": "9a6683e1-ff34-45c0-b400-21452bb023a3",
   "metadata": {},
   "outputs": [
    {
     "data": {
      "image/png": "[encoded data removed]",
      "text/plain": [
       "<Figure size 640x480 with 1 Axes>"
      ]
     },
     "metadata": {},
     "output_type": "display_data"
    }
   ],
   "source": [
    "import matplotlib.pyplot as plt\n",
    "import seaborn as sns\n",
    "\n",
    "# Bar chart\n",
    "sns.countplot(data=df, x='Pclass')\n",
    "plt.title(\"Passengers by Class\")\n",
    "plt.show()\n"
   ]
  },
  {
   "cell_type": "markdown",
   "id": "9e3301db-bd2a-488f-8ac7-b52884019e8f",
   "metadata": {},
   "source": [
    "### 5.2 Heatmap of correlations\n"
   ]
  },
  {
   "cell_type": "code",
   "execution_count": 30,
   "id": "d7040379-3352-45f4-a74c-e641416fe119",
   "metadata": {},
   "outputs": [
    {
     "data": {
      "image/png": "[encoded data removed]",
      "text/plain": [
       "<Figure size 1000x600 with 2 Axes>"
      ]
     },
     "metadata": {},
     "output_type": "display_data"
    }
   ],
   "source": [
    "# Keep only numeric columns for correlation\n",
    "numeric_df = df.select_dtypes(include=['int64', 'float64'])\n",
    "\n",
    "# Correlation heatmap\n",
    "corr = numeric_df.corr()\n",
    "\n",
    "plt.figure(figsize=(10,6))\n",
    "sns.heatmap(corr, annot=True, cmap=\"coolwarm\", fmt=\".2f\")\n",
    "plt.title(\"Feature Correlation Heatmap\")\n",
    "plt.show()\n"
   ]
  }
 ],
 "metadata": {
  "kernelspec": {
   "display_name": "Python 3 (ipykernel)",
   "language": "python",
   "name": "python3"
  },
  "language_info": {
   "codemirror_mode": {
    "name": "ipython",
    "version": 3
   },
   "file_extension": ".py",
   "mimetype": "text/x-python",
   "name": "python",
   "nbconvert_exporter": "python",
   "pygments_lexer": "ipython3",
   "version": "3.13.7"
  }
 },
 "nbformat": 4,
 "nbformat_minor": 5
}
