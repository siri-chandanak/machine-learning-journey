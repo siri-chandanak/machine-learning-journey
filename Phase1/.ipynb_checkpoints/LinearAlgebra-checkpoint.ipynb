{
 "cells": [
  {
   "cell_type": "markdown",
   "id": "d33199b9-f7a5-4950-985e-7033aa95bbcb",
   "metadata": {},
   "source": [
    "# Linear Algebra Foundations for AI/ML\n",
    "\n",
    "This notebook covers the fundamental concepts of Linear Algebra required for Machine Learning and AI:\n",
    "- Scalars, Vectors, and Matrices\n",
    "- Matrix Operations (Addition, Multiplication, Transpose)\n",
    "- Dot Product\n",
    "- Eigenvalues and Eigenvectors\n",
    "- Cosine Similarity\n",
    "- Mini Project: Movie Recommendation System using Cosine Similarity\n",
    "\n",
    "We will use Python, NumPy, and Matplotlib to demonstrate the concepts.\n",
    "\n",
    "### Scalars, Vectors, and Matrices\n",
    "\n",
    "- **Scalar**: A single number (e.g., `5`).\n",
    "- **Vector**: A 1D array of numbers (e.g., `[1, 2, 3]`).\n",
    "- **Matrix**: A 2D array of numbers (e.g., rows × columns).\n",
    "\n",
    "Notation:\n",
    "- Scalar: \\( a = 5\\)\n",
    "- Vector: \\( v = \\begin{bmatrix} v_1 \\\\ v_2 \\\\ v_3 \\end{bmatrix} \\)\n",
    "- Matrix: \\( A = \\begin{bmatrix} a_{11} & a_{12} \\\\ a_{21} & a_{22} \\end{bmatrix} \\)\n"
   ]
  },
  {
   "cell_type": "code",
   "execution_count": 1,
   "id": "6841853c-660b-46a6-836d-6780345dba25",
   "metadata": {},
   "outputs": [
    {
     "name": "stdout",
     "output_type": "stream",
     "text": [
      "Scalar: 5\n",
      "Vector: [1 2 3]\n",
      "Matrix:\n",
      " [[1 2]\n",
      " [3 4]]\n"
     ]
    }
   ],
   "source": [
    "import numpy as np\n",
    "\n",
    "# Scalar\n",
    "scalar = 5\n",
    "print(\"Scalar:\", scalar)\n",
    "\n",
    "# Vector\n",
    "vector = np.array([1, 2, 3])\n",
    "print(\"Vector:\", vector)\n",
    "\n",
    "# Matrix\n",
    "matrix = np.array([[1, 2], [3, 4]])\n",
    "print(\"Matrix:\\n\", matrix)\n"
   ]
  },
  {
   "cell_type": "markdown",
   "id": "cb5a2b49-d960-44cf-a96c-88d54b2fa21a",
   "metadata": {},
   "source": [
    "### Matrix Operations\n",
    "\n",
    "\n",
    "**Addition:**  \n",
    "$$ C = A + B $$\n",
    "\n",
    "**Multiplication (Dot Product):**  \n",
    "$$ C = A \\times B $$\n",
    "\n",
    "**Transpose:**  \n",
    "$$ A^T $$"
   ]
  },
  {
   "cell_type": "code",
   "execution_count": 2,
   "id": "a3eba7cc-3dbe-4653-98bf-4842431e0bcf",
   "metadata": {},
   "outputs": [
    {
     "name": "stdout",
     "output_type": "stream",
     "text": [
      "Matrix Addition:\n",
      " [[ 6  8]\n",
      " [10 12]]\n",
      "\n",
      "Matrix Multiplication:\n",
      " [[19 22]\n",
      " [43 50]]\n",
      "\n",
      "Transpose of A:\n",
      " [[1 3]\n",
      " [2 4]]\n"
     ]
    }
   ],
   "source": [
    "A = np.array([[1, 2], [3, 4]])\n",
    "B = np.array([[5, 6], [7, 8]])\n",
    "\n",
    "# Addition\n",
    "C_add = A + B\n",
    "print(\"Matrix Addition:\\n\", C_add)\n",
    "\n",
    "# Multiplication\n",
    "C_mul = np.dot(A, B)\n",
    "print(\"\\nMatrix Multiplication:\\n\", C_mul)\n",
    "\n",
    "# Transpose\n",
    "A_T = A.T\n",
    "print(\"\\nTranspose of A:\\n\", A_T)\n"
   ]
  },
  {
   "cell_type": "markdown",
   "id": "a62fa2ee-9f85-44a3-9399-85ac3cef20a7",
   "metadata": {},
   "source": [
    "### Dot Product\n",
    "\n",
    "The dot product of two vectors:  \n",
    "\n",
    "$$ \\vec{a} \\cdot \\vec{b} = \\sum_{i=1}^n a_i b_i $$\n",
    "\n",
    "---\n",
    "\n",
    "### Cosine Similarity\n",
    "\n",
    "Measures similarity between two vectors:  \n",
    "\n",
    "$$ \\cos(\\theta) = \\frac{\\vec{a} \\cdot \\vec{b}}{|\\vec{a}| \\, |\\vec{b}|} $$"
   ]
  },
  {
   "cell_type": "code",
   "execution_count": 3,
   "id": "4ba18e4c-49f1-4a69-99f6-232dd23fa629",
   "metadata": {},
   "outputs": [
    {
     "name": "stdout",
     "output_type": "stream",
     "text": [
      "Dot Product: 32\n",
      "Cosine Similarity: 0.9746318461970762\n"
     ]
    }
   ],
   "source": [
    "# Dot Product Example\n",
    "a = np.array([1, 2, 3])\n",
    "b = np.array([4, 5, 6])\n",
    "\n",
    "dot_product = np.dot(a, b)\n",
    "print(\"Dot Product:\", dot_product)\n",
    "\n",
    "# Cosine Similarity Example\n",
    "from numpy.linalg import norm\n",
    "\n",
    "cos_sim = np.dot(a, b) / (norm(a) * norm(b))\n",
    "print(\"Cosine Similarity:\", cos_sim)\n"
   ]
  },
  {
   "cell_type": "markdown",
   "id": "4823400d-e009-4fb6-a399-7e3ce39e573d",
   "metadata": {},
   "source": [
    "## Eigenvalues & Eigenvectors\n",
    "\n",
    "For a square matrix \\( A \\):\n",
    "\n",
    "$$ A v = \\lambda v $$\n",
    "\n",
    "$$ v = eigenvector $$ \n",
    "$$ \\lambda = eigenvalue $$\n"
   ]
  },
  {
   "cell_type": "code",
   "execution_count": 4,
   "id": "d7d53a08-25d9-42bf-9ed6-cef785c812a6",
   "metadata": {},
   "outputs": [
    {
     "name": "stdout",
     "output_type": "stream",
     "text": [
      "Eigenvalues: [3. 1.]\n",
      "Eigenvectors:\n",
      " [[ 0.70710678 -0.70710678]\n",
      " [ 0.70710678  0.70710678]]\n"
     ]
    }
   ],
   "source": [
    "# Eigenvalues and Eigenvectors\n",
    "A = np.array([[2, 1],\n",
    "              [1, 2]])\n",
    "\n",
    "eigenvalues, eigenvectors = np.linalg.eig(A)\n",
    "print(\"Eigenvalues:\", eigenvalues)\n",
    "print(\"Eigenvectors:\\n\", eigenvectors)\n"
   ]
  },
  {
   "cell_type": "markdown",
   "id": "ef0a1b90-2127-4213-bcb7-cac76bf4473f",
   "metadata": {},
   "source": [
    "### Mini Project: Movie Recommendation System\n",
    "\n",
    "We will represent movies as **feature vectors** (e.g., genre, action score, romance score).\n",
    "Using **cosine similarity**, we will recommend the most similar movie.\n"
   ]
  },
  {
   "cell_type": "code",
   "execution_count": 9,
   "id": "1573d205-6da6-4464-99a5-d1e49eb884c6",
   "metadata": {},
   "outputs": [
    {
     "name": "stdout",
     "output_type": "stream",
     "text": [
      "Recommendations for Movie A:\n",
      "[('Movie E', np.float64(0.8164965809277259)), ('Movie B', np.float64(0.4999999999999999))]\n",
      "Recommendations for Movie B:\n",
      "[('Movie E', np.float64(0.8164965809277259)), ('Movie D', np.float64(0.7071067811865475))]\n",
      "Recommendations for Movie C:\n",
      "[('Movie E', np.float64(0.8164965809277259)), ('Movie D', np.float64(0.7071067811865475))]\n",
      "Recommendations for Movie D:\n",
      "[('Movie B', np.float64(0.7071067811865475)), ('Movie C', np.float64(0.7071067811865475))]\n"
     ]
    }
   ],
   "source": [
    "# Movie feature vectors (Action, Comedy, Romance)\n",
    "movies = {\n",
    "    \"Movie A\": np.array([1, 1, 0]),\n",
    "    \"Movie B\": np.array([0, 1, 1]),\n",
    "    \"Movie C\": np.array([1, 0, 1]),\n",
    "    \"Movie D\": np.array([0, 0, 1]),\n",
    "    \"Movie E\": np.array([1, 1, 1]),\n",
    "}\n",
    "\n",
    "def recommend(movie_name, movies, top_n=2):\n",
    "    target = movies[movie_name]\n",
    "    similarities = {}\n",
    "    for name, features in movies.items():\n",
    "        if name != movie_name:\n",
    "            sim = np.dot(target, features) / (np.linalg.norm(target) * np.linalg.norm(features))\n",
    "            similarities[name] = sim\n",
    "    sorted_movies = sorted(similarities.items(), key=lambda x: x[1], reverse=True)\n",
    "    return sorted_movies[:top_n]\n",
    "\n",
    "print(\"Recommendations for Movie A:\")\n",
    "print(recommend(\"Movie A\", movies))\n",
    "\n",
    "print(\"Recommendations for Movie B:\")\n",
    "print(recommend(\"Movie B\", movies))\n",
    "\n",
    "print(\"Recommendations for Movie C:\")\n",
    "print(recommend(\"Movie C\", movies))\n",
    "\n",
    "print(\"Recommendations for Movie D:\")\n",
    "print(recommend(\"Movie D\", movies))\n"
   ]
  },
  {
   "cell_type": "code",
   "execution_count": null,
   "id": "5d7d9dc2-20ec-4bf2-b47d-1317966ea629",
   "metadata": {},
   "outputs": [],
   "source": []
  }
 ],
 "metadata": {
  "kernelspec": {
   "display_name": "Python 3 (ipykernel)",
   "language": "python",
   "name": "python3"
  },
  "language_info": {
   "codemirror_mode": {
    "name": "ipython",
    "version": 3
   },
   "file_extension": ".py",
   "mimetype": "text/x-python",
   "name": "python",
   "nbconvert_exporter": "python",
   "pygments_lexer": "ipython3",
   "version": "3.13.7"
  }
 },
 "nbformat": 4,
 "nbformat_minor": 5
}
