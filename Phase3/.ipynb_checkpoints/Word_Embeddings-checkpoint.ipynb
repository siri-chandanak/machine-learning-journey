{
 "cells": [
  {
   "cell_type": "markdown",
   "id": "9cac4cbf-24f8-479d-9616-968036f66827",
   "metadata": {},
   "source": [
    "# Word Embeddings in NLP\n",
    "\n",
    "## Overview\n",
    "Word embeddings are dense vector representations of words that capture semantic and syntactic meaning. Unlike traditional one-hot or Bag-of-Words representations, embeddings place words in a continuous vector space where similar words are close together. \n",
    "\n",
    "Popular methods:\n",
    "- **Word2Vec** (CBOW & Skip-gram)\n",
    "- **GloVe** (Global Vectors)\n",
    "- **FastText** (subword-level embeddings)\n",
    "\n",
    "In this notebook, you will learn:\n",
    "1. How to generate Word2Vec embeddings from a corpus.\n",
    "2. Use pre-trained GloVe and FastText embeddings.\n",
    "3. Visualize embeddings using PCA or t-SNE.\n",
    "4. Apply embeddings for a simple classification task (e.g., sentiment analysis).\n",
    "\n",
    "# Libraries Required\n",
    "\n",
    "We will use the following Python libraries:\n",
    "- `gensim` for Word2Vec and FastText embeddings\n",
    "- `numpy` for array operations\n",
    "- `matplotlib` and `seaborn` for visualization\n",
    "- `sklearn` for PCA/t-SNE and basic machine learning\n",
    "- `nltk` for text preprocessing\n"
   ]
  },
  {
   "cell_type": "code",
   "execution_count": 6,
   "id": "f6b1dd68-7fe7-4d22-ab75-f4f26139a4dc",
   "metadata": {},
   "outputs": [
    {
     "name": "stderr",
     "output_type": "stream",
     "text": [
      "[nltk_data] Downloading package punkt to\n",
      "[nltk_data]     C:\\Users\\ksiri\\AppData\\Roaming\\nltk_data...\n",
      "[nltk_data]   Package punkt is already up-to-date!\n",
      "[nltk_data] Downloading package stopwords to\n",
      "[nltk_data]     C:\\Users\\ksiri\\AppData\\Roaming\\nltk_data...\n",
      "[nltk_data]   Package stopwords is already up-to-date!\n"
     ]
    }
   ],
   "source": [
    "#!pip install gensim matplotlib seaborn scikit-learn nltk\n",
    "\n",
    "import nltk\n",
    "nltk.download('punkt')\n",
    "nltk.download('stopwords')\n",
    "from nltk.tokenize import word_tokenize\n",
    "from nltk.corpus import stopwords\n",
    "\n",
    "import gensim\n",
    "from gensim.models import Word2Vec, FastText, KeyedVectors\n",
    "\n",
    "import numpy as np\n",
    "import matplotlib.pyplot as plt\n",
    "import seaborn as sns\n",
    "from sklearn.decomposition import PCA\n",
    "from sklearn.manifold import TSNE\n"
   ]
  },
  {
   "cell_type": "markdown",
   "id": "48fa979d-d8d2-4d37-8920-3d01c8cdcc3a",
   "metadata": {},
   "source": [
    "# Text Preprocessing\n",
    "Before training embeddings, we need to clean and tokenize text.\n",
    "\n",
    "Steps:\n",
    "1. Lowercase conversion\n",
    "2. Tokenization\n",
    "3. Stopwords removal\n"
   ]
  },
  {
   "cell_type": "code",
   "execution_count": 7,
   "id": "87d8c06c-95d5-4ed1-9278-6ea88f8454f8",
   "metadata": {},
   "outputs": [
    {
     "name": "stdout",
     "output_type": "stream",
     "text": [
      "Tokenized Corpus:\n",
      "[['natural', 'language', 'processing', 'amazing'], ['word', 'embeddings', 'capture', 'semantic', 'meaning', 'words'], ['machine', 'learning', 'models', 'benefit', 'dense', 'vector', 'representations'], ['fasttext', 'popular', 'embedding', 'models']]\n"
     ]
    }
   ],
   "source": [
    "corpus = [\n",
    "    \"Natural Language Processing is amazing.\",\n",
    "    \"Word embeddings capture semantic meaning of words.\",\n",
    "    \"Machine learning models benefit from dense vector representations.\",\n",
    "    \"FastText and Word2Vec are popular embedding models.\"\n",
    "]\n",
    "\n",
    "stop_words = set(stopwords.words('english'))\n",
    "\n",
    "def preprocess(text):\n",
    "    tokens = word_tokenize(text.lower())\n",
    "    filtered = [w for w in tokens if w.isalpha() and w not in stop_words]\n",
    "    return filtered\n",
    "\n",
    "tokenized_corpus = [preprocess(sentence) for sentence in corpus]\n",
    "print(\"Tokenized Corpus:\")\n",
    "print(tokenized_corpus)\n"
   ]
  },
  {
   "cell_type": "markdown",
   "id": "ce92401a-af79-4924-8839-71b3e9966fdd",
   "metadata": {},
   "source": [
    "# Word2Vec Embeddings\n",
    "\n",
    "Word2Vec converts words into vectors using two main architectures:\n",
    "1. **CBOW (Continuous Bag of Words)**: Predicts a word given its context.\n",
    "2. **Skip-gram**: Predicts context words from a given target word.\n",
    "\n",
    "We'll train a small Word2Vec model on our corpus.\n"
   ]
  },
  {
   "cell_type": "code",
   "execution_count": 8,
   "id": "a0fdf387-63e4-4e67-b934-070a9ee7e569",
   "metadata": {},
   "outputs": [
    {
     "name": "stdout",
     "output_type": "stream",
     "text": [
      "Vocabulary: ['models', 'embedding', 'meaning', 'language', 'processing', 'amazing', 'word', 'embeddings', 'capture', 'semantic', 'words', 'popular', 'machine', 'learning', 'benefit', 'dense', 'vector', 'representations', 'fasttext', 'natural']\n",
      "Vector for 'embeddings':\n",
      " [ 0.00855371  0.00015213 -0.01917042 -0.01933297 -0.01229758 -0.00025716\n",
      "  0.00399522  0.01886577  0.01116979 -0.00858223  0.00055669  0.00992968\n",
      "  0.01539812 -0.00228867  0.00864768 -0.01162989 -0.00160854  0.01620168\n",
      " -0.00472059 -0.01932879  0.01155964 -0.00786041 -0.00244598  0.01996298\n",
      " -0.00451314 -0.00951505 -0.01065981  0.01396314 -0.01141885  0.00422774\n",
      " -0.01051234  0.01224262  0.00871546  0.00521322 -0.00298246 -0.00549266\n",
      "  0.01798762  0.01043256 -0.00432546 -0.01894246 -0.01485355 -0.00212769\n",
      " -0.00159005 -0.00512632  0.01936732 -0.00091713  0.01174866 -0.01489662\n",
      " -0.00501263 -0.01110081]\n"
     ]
    }
   ],
   "source": [
    "# Train Word2Vec model\n",
    "w2v_model = Word2Vec(sentences=tokenized_corpus, vector_size=50, window=3, min_count=1, workers=4, sg=1)\n",
    "# sg=1 -> Skip-gram, sg=0 -> CBOW\n",
    "\n",
    "# Vocabulary\n",
    "print(\"Vocabulary:\", list(w2v_model.wv.index_to_key))\n",
    "\n",
    "# Example: vector of a word\n",
    "print(\"Vector for 'embeddings':\\n\", w2v_model.wv['embeddings'])\n"
   ]
  },
  {
   "cell_type": "markdown",
   "id": "d074a960-9c3a-4893-973f-028938cd8ec3",
   "metadata": {},
   "source": [
    "# Word Similarity\n",
    "\n",
    "We can find words similar to a target word using cosine similarity in the embedding space.\n"
   ]
  },
  {
   "cell_type": "code",
   "execution_count": 9,
   "id": "7550f90e-ba99-42db-9a43-a6c2ddb5e0a0",
   "metadata": {},
   "outputs": [
    {
     "name": "stdout",
     "output_type": "stream",
     "text": [
      "Words similar to 'words':\n",
      "capture: 0.2374\n",
      "word: 0.1695\n",
      "representations: 0.1649\n",
      "meaning: 0.1212\n",
      "dense: 0.0946\n"
     ]
    }
   ],
   "source": [
    "similar_words = w2v_model.wv.most_similar('words', topn=5)\n",
    "print(\"Words similar to 'words':\")\n",
    "for word, score in similar_words:\n",
    "    print(f\"{word}: {score:.4f}\")\n"
   ]
  },
  {
   "cell_type": "markdown",
   "id": "e4150dc5-39a6-4964-8085-063b0f78ba32",
   "metadata": {},
   "source": [
    "# GloVe Embeddings\n",
    "\n",
    "GloVe (Global Vectors) uses co-occurrence statistics of words in a large corpus to create embeddings.\n",
    "\n",
    "- We can use pre-trained GloVe vectors instead of training our own.\n",
    "- GloVe vectors are available in various dimensions: 50, 100, 200, 300.\n"
   ]
  },
  {
   "cell_type": "code",
   "execution_count": null,
   "id": "19879bee-3940-40d3-b41a-a20b5622f99a",
   "metadata": {},
   "outputs": [],
   "source": [
    "import requests, zipfile, io, os\n",
    "\n",
    "url = \"http://nlp.stanford.edu/data/glove.6B.zip\"\n",
    "r = requests.get(url)\n",
    "z = zipfile.ZipFile(io.BytesIO(r.content))\n",
    "z.extractall(\"glove\")  # Extracts to 'glove' folder\n",
    "\n",
    "# Load embeddings\n",
    "glove_file = \"glove/glove.6B.50d.txt\"\n",
    "glove_vectors = {}\n",
    "with open(glove_file, 'r', encoding='utf8') as f:\n",
    "    for line in f:\n",
    "        parts = line.strip().split()\n",
    "        word = parts[0]\n",
    "        vector = np.array(parts[1:], dtype=np.float32)\n",
    "        glove_vectors[word] = vector\n",
    "\n",
    "print(\"Vector for 'machine':\", glove_vectors['machine'][:10])\n"
   ]
  },
  {
   "cell_type": "markdown",
   "id": "3736ecba-5592-4083-9eb2-68ca4fba527b",
   "metadata": {},
   "source": [
    "# FastText Embeddings\n",
    "\n",
    "- FastText extends Word2Vec by representing words as **bags of character n-grams**.\n",
    "- This allows embeddings for words not seen during training (out-of-vocabulary words).\n"
   ]
  },
  {
   "cell_type": "code",
   "execution_count": 17,
   "id": "5a44d381-7301-4328-9b88-cb5754051944",
   "metadata": {},
   "outputs": [
    {
     "name": "stdout",
     "output_type": "stream",
     "text": [
      "Vector for 'embeddings':\n",
      " [-0.0015085   0.00025542 -0.00078445 -0.00104236 -0.00308485 -0.00023851\n",
      "  0.00127875 -0.00071433 -0.00304594  0.00039025  0.00276349 -0.00341364\n",
      "  0.00391086  0.00062633 -0.00423458 -0.00213051  0.00190903  0.00133734\n",
      " -0.00143486 -0.00309722  0.00111128 -0.00167242 -0.00098862 -0.00123722\n",
      " -0.00107467 -0.00245664 -0.00066636  0.00013809 -0.00067906  0.0017798\n",
      " -0.00228257  0.00093196  0.00105245  0.00066968  0.00087002 -0.00121874\n",
      "  0.00430554 -0.00090614  0.00658213  0.00379867  0.00102684  0.00161272\n",
      "  0.00033733  0.00013004  0.00129855  0.00396323 -0.00302168  0.00246227\n",
      "  0.00374897 -0.00227396]\n"
     ]
    }
   ],
   "source": [
    "ft_model = FastText(sentences=tokenized_corpus, vector_size=50, window=3, min_count=1, workers=4)\n",
    "print(\"Vector for 'embeddings':\\n\", ft_model.wv['embeddings'])\n"
   ]
  },
  {
   "cell_type": "markdown",
   "id": "131acde9-b854-4e84-8a47-6c8b94f3b447",
   "metadata": {},
   "source": [
    "# Embedding Visualization\n",
    "\n",
    "We can reduce high-dimensional embeddings to 2D using PCA or t-SNE to visualize word relationships.\n"
   ]
  },
  {
   "cell_type": "code",
   "execution_count": 18,
   "id": "14e79803-826a-40ce-8ba5-f7f58aba0133",
   "metadata": {},
   "outputs": [
    {
     "data": {
      "image/png": "[encoded data removed]",
      "text/plain": [
       "<Figure size 800x600 with 1 Axes>"
      ]
     },
     "metadata": {},
     "output_type": "display_data"
    }
   ],
   "source": [
    "words = list(w2v_model.wv.index_to_key)\n",
    "word_vectors = np.array([w2v_model.wv[word] for word in words])\n",
    "\n",
    "pca = PCA(n_components=2)\n",
    "vectors_2d = pca.fit_transform(word_vectors)\n",
    "\n",
    "plt.figure(figsize=(8,6))\n",
    "sns.scatterplot(x=vectors_2d[:,0], y=vectors_2d[:,1])\n",
    "for i, word in enumerate(words):\n",
    "    plt.text(vectors_2d[i,0]+0.01, vectors_2d[i,1]+0.01, word)\n",
    "plt.title(\"Word2Vec Embeddings PCA Visualization\")\n",
    "plt.show()\n"
   ]
  },
  {
   "cell_type": "markdown",
   "id": "936f9368-f2b0-4a52-b271-e45ae3f298f0",
   "metadata": {},
   "source": [
    "# Using Word Embeddings for Text Classification\n",
    "\n",
    "We can use embeddings as features for a machine learning model:\n",
    "- Example: Sentiment analysis or simple document classification.\n",
    "- Steps:\n",
    "  1. Convert each word to its embedding.\n",
    "  2. Average word embeddings for the sentence/document.\n",
    "  3. Feed embeddings to a classifier (e.g., Logistic Regression, SVM).\n"
   ]
  },
  {
   "cell_type": "code",
   "execution_count": 19,
   "id": "b5eb8b10-4a2f-494e-9074-d34cfc27a474",
   "metadata": {},
   "outputs": [
    {
     "name": "stdout",
     "output_type": "stream",
     "text": [
      "Predictions: [1 1 1]\n"
     ]
    }
   ],
   "source": [
    "from sklearn.linear_model import LogisticRegression\n",
    "from sklearn.preprocessing import LabelEncoder\n",
    "\n",
    "# Sample data\n",
    "texts = [\"I love NLP\", \"Machine learning is great\", \"I dislike bugs in code\"]\n",
    "labels = [\"positive\", \"positive\", \"negative\"]\n",
    "\n",
    "# Preprocess\n",
    "tokenized_texts = [preprocess(t) for t in texts]\n",
    "\n",
    "# Average embeddings\n",
    "def get_avg_vector(tokens, model):\n",
    "    vecs = [model.wv[t] for t in tokens if t in model.wv]\n",
    "    if len(vecs) == 0:\n",
    "        return np.zeros(model.vector_size)\n",
    "    return np.mean(vecs, axis=0)\n",
    "\n",
    "X = np.array([get_avg_vector(t, w2v_model) for t in tokenized_texts])\n",
    "y = LabelEncoder().fit_transform(labels)\n",
    "\n",
    "# Train simple classifier\n",
    "clf = LogisticRegression()\n",
    "clf.fit(X, y)\n",
    "print(\"Predictions:\", clf.predict(X))\n"
   ]
  },
  {
   "cell_type": "markdown",
   "id": "7a3503c7-094a-4f05-87f3-2673da7a1064",
   "metadata": {},
   "source": [
    "# Summary\n",
    "\n",
    "In this notebook, you learned:\n",
    "- Preprocessing text for embeddings\n",
    "- Training Word2Vec and FastText embeddings\n",
    "- Using pre-trained GloVe embeddings\n",
    "- Visualizing embeddings with PCA\n",
    "- Applying embeddings for a simple classification task\n",
    "\n",
    "Next steps:\n",
    "- Explore t-SNE for visualization\n",
    "- Use embeddings in deep learning models (LSTM, Transformer)\n",
    "- Combine embeddings with RAG pipelines for advanced applications\n"
   ]
  },
  {
   "cell_type": "code",
   "execution_count": null,
   "id": "99aad90f-bc20-496c-b7a7-a627a9073ada",
   "metadata": {},
   "outputs": [],
   "source": []
  }
 ],
 "metadata": {
  "kernelspec": {
   "display_name": "Python 3 (ipykernel)",
   "language": "python",
   "name": "python3"
  },
  "language_info": {
   "codemirror_mode": {
    "name": "ipython",
    "version": 3
   },
   "file_extension": ".py",
   "mimetype": "text/x-python",
   "name": "python",
   "nbconvert_exporter": "python",
   "pygments_lexer": "ipython3",
   "version": "3.10.18"
  }
 },
 "nbformat": 4,
 "nbformat_minor": 5
}
