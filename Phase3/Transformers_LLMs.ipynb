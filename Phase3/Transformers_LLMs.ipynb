{
 "cells": [
  {
   "cell_type": "markdown",
   "id": "04f2cfc8-0da4-44d5-99e1-c5a2a5b8a8bb",
   "metadata": {},
   "source": [
    "# Transformers and Large Language Models (LLMs)\n",
    "\n",
    "This notebook provides a comprehensive overview of Transformer-based architectures and practical examples of fine-tuning popular LLMs such as **BERT**, **T5**, and **DistilBERT** for text classification, summarization, and question answering tasks.\n",
    "\n",
    "You’ll learn:\n",
    "- The core concepts behind the Transformer architecture (Attention, Encoder-Decoder)\n",
    "- How to use Hugging Face Transformers for various NLP tasks\n",
    "- How to fine-tune pre-trained models without using `TrainingArguments` or Trainer API\n",
    "\n",
    "## Prerequisites\n",
    "Before proceeding, ensure you understand:\n",
    "- NLP basics: tokenization, embeddings, and vectorization\n",
    "- Basic PyTorch or TensorFlow concepts\n",
    "- The importance of pre-trained language models\n",
    "\n",
    "We'll use the **Hugging Face Transformers library** with **PyTorch backend**.\n"
   ]
  },
  {
   "cell_type": "code",
   "execution_count": 1,
   "id": "93f37e7a-30bf-4263-a494-81ff884d9294",
   "metadata": {},
   "outputs": [],
   "source": [
    "import torch\n",
    "from transformers import (\n",
    "    BertTokenizer, BertForSequenceClassification,\n",
    "    T5Tokenizer, T5ForConditionalGeneration,\n",
    "    DistilBertTokenizer, DistilBertForQuestionAnswering\n",
    ")\n",
    "from datasets import load_dataset\n",
    "from torch.utils.data import DataLoader\n",
    "from torch.optim import AdamW\n",
    "from tqdm.auto import tqdm\n",
    "import numpy as np"
   ]
  },
  {
   "cell_type": "markdown",
   "id": "b93b360d-004a-482d-98b4-b6be3bd08e5d",
   "metadata": {},
   "source": [
    "# Understanding the Transformer Architecture\n",
    "\n",
    "The **Transformer** is the foundation of modern LLMs like BERT, GPT, and T5.\n",
    "\n",
    "### Key Components:\n",
    "1. **Self-Attention Mechanism**\n",
    "   - Each word attends to every other word in a sentence.\n",
    "   - Captures contextual relationships regardless of distance.\n",
    "\n",
    "2. **Multi-Head Attention**\n",
    "   - Runs multiple attention operations in parallel for richer feature extraction.\n",
    "\n",
    "3. **Positional Encoding**\n",
    "   - Adds information about word order since Transformers don’t have recurrence.\n",
    "\n",
    "4. **Feed-Forward Networks**\n",
    "   - Processes information independently at each position after attention.\n",
    "\n",
    "5. **Encoder & Decoder Blocks**\n",
    "   - **BERT** uses **only Encoder** (bidirectional context)\n",
    "   - **GPT** uses **only Decoder** (autoregressive)\n",
    "   - **T5** uses **Encoder + Decoder** (seq2seq tasks)\n",
    "\n",
    "# Section 1: Fine-Tuning BERT for Text Classification\n",
    "\n",
    "We’ll fine-tune `bert-base-uncased` on a simple sentiment classification dataset (IMDB subset).\n",
    "\n",
    "Steps:\n",
    "1. Load dataset and tokenizer\n",
    "2. Tokenize text\n",
    "3. Create PyTorch DataLoader\n",
    "4. Fine-tune BERT manually using an optimizer\n",
    "5. Evaluate accuracy\n"
   ]
  },
  {
   "cell_type": "code",
   "execution_count": 2,
   "id": "5be36ce3-0e49-4c03-a3d1-d45a4eafe44b",
   "metadata": {},
   "outputs": [],
   "source": [
    "dataset = load_dataset(\"imdb\", split=\"train[:2000]\")\n",
    "tokenizer = BertTokenizer.from_pretrained(\"bert-base-uncased\")\n",
    "\n",
    "def tokenize_fn(example):\n",
    "    return tokenizer(example[\"text\"], padding=\"max_length\", truncation=True, max_length=128)\n",
    "\n",
    "tokenized_data = dataset.map(tokenize_fn, batched=True)\n",
    "tokenized_data.set_format(type=\"torch\", columns=[\"input_ids\", \"attention_mask\", \"label\"])\n",
    "\n",
    "dataloader = DataLoader(tokenized_data, batch_size=8, shuffle=True)\n"
   ]
  },
  {
   "cell_type": "markdown",
   "id": "db047fa7-f684-4dcd-b37d-53eeffe3e0f4",
   "metadata": {},
   "source": [
    "## Fine-Tuning BERT for Text Classification\n",
    "\n",
    "We'll fine-tune a pre-trained **BERT** model on a text classification task using the `imdb` dataset (binary sentiment classification)."
   ]
  },
  {
   "cell_type": "code",
   "execution_count": 3,
   "id": "d807c287-e290-457e-9b1b-75f6bbc7b505",
   "metadata": {},
   "outputs": [
    {
     "name": "stderr",
     "output_type": "stream",
     "text": [
      "Some weights of BertForSequenceClassification were not initialized from the model checkpoint at bert-base-uncased and are newly initialized: ['classifier.bias', 'classifier.weight']\n",
      "You should probably TRAIN this model on a down-stream task to be able to use it for predictions and inference.\n"
     ]
    },
    {
     "data": {
      "text/plain": [
       "BertForSequenceClassification(\n",
       "  (bert): BertModel(\n",
       "    (embeddings): BertEmbeddings(\n",
       "      (word_embeddings): Embedding(30522, 768, padding_idx=0)\n",
       "      (position_embeddings): Embedding(512, 768)\n",
       "      (token_type_embeddings): Embedding(2, 768)\n",
       "      (LayerNorm): LayerNorm((768,), eps=1e-12, elementwise_affine=True)\n",
       "      (dropout): Dropout(p=0.1, inplace=False)\n",
       "    )\n",
       "    (encoder): BertEncoder(\n",
       "      (layer): ModuleList(\n",
       "        (0-11): 12 x BertLayer(\n",
       "          (attention): BertAttention(\n",
       "            (self): BertSdpaSelfAttention(\n",
       "              (query): Linear(in_features=768, out_features=768, bias=True)\n",
       "              (key): Linear(in_features=768, out_features=768, bias=True)\n",
       "              (value): Linear(in_features=768, out_features=768, bias=True)\n",
       "              (dropout): Dropout(p=0.1, inplace=False)\n",
       "            )\n",
       "            (output): BertSelfOutput(\n",
       "              (dense): Linear(in_features=768, out_features=768, bias=True)\n",
       "              (LayerNorm): LayerNorm((768,), eps=1e-12, elementwise_affine=True)\n",
       "              (dropout): Dropout(p=0.1, inplace=False)\n",
       "            )\n",
       "          )\n",
       "          (intermediate): BertIntermediate(\n",
       "            (dense): Linear(in_features=768, out_features=3072, bias=True)\n",
       "            (intermediate_act_fn): GELUActivation()\n",
       "          )\n",
       "          (output): BertOutput(\n",
       "            (dense): Linear(in_features=3072, out_features=768, bias=True)\n",
       "            (LayerNorm): LayerNorm((768,), eps=1e-12, elementwise_affine=True)\n",
       "            (dropout): Dropout(p=0.1, inplace=False)\n",
       "          )\n",
       "        )\n",
       "      )\n",
       "    )\n",
       "    (pooler): BertPooler(\n",
       "      (dense): Linear(in_features=768, out_features=768, bias=True)\n",
       "      (activation): Tanh()\n",
       "    )\n",
       "  )\n",
       "  (dropout): Dropout(p=0.1, inplace=False)\n",
       "  (classifier): Linear(in_features=768, out_features=2, bias=True)\n",
       ")"
      ]
     },
     "execution_count": 3,
     "metadata": {},
     "output_type": "execute_result"
    }
   ],
   "source": [
    "model = BertForSequenceClassification.from_pretrained(\"bert-base-uncased\", num_labels=2)\n",
    "optimizer = AdamW(model.parameters(), lr=2e-5)\n",
    "\n",
    "device = torch.device(\"cuda\" if torch.cuda.is_available() else \"cpu\")\n",
    "model.to(device)\n"
   ]
  },
  {
   "cell_type": "code",
   "execution_count": 5,
   "id": "563b180d-6945-4c71-95e7-556ba45c0414",
   "metadata": {},
   "outputs": [
    {
     "data": {
      "application/vnd.jupyter.widget-view+json": {
       "model_id": "ce58db8f62ee4b25b1a418f95a201322",
       "version_major": 2,
       "version_minor": 0
      },
      "text/plain": [
       "  0%|          | 0/250 [00:00<?, ?it/s]"
      ]
     },
     "metadata": {},
     "output_type": "display_data"
    }
   ],
   "source": [
    "model.train()\n",
    "epochs = 1\n",
    "\n",
    "for epoch in range(epochs):\n",
    "    loop = tqdm(dataloader, leave=True)\n",
    "    for batch in loop:\n",
    "        optimizer.zero_grad()\n",
    "        input_ids = batch[\"input_ids\"].to(device)\n",
    "        attention_mask = batch[\"attention_mask\"].to(device)\n",
    "        labels = batch[\"label\"].to(device)\n",
    "        \n",
    "        outputs = model(input_ids, attention_mask=attention_mask, labels=labels)\n",
    "        loss = outputs.loss\n",
    "        loss.backward()\n",
    "        optimizer.step()\n",
    "        \n",
    "        loop.set_description(f\"Epoch {epoch}\")\n",
    "        loop.set_postfix(loss=loss.item())\n"
   ]
  },
  {
   "cell_type": "markdown",
   "id": "13681f77-ab8e-4c22-95fb-f689b7db4c4d",
   "metadata": {},
   "source": [
    "## Evaluate the Model\n",
    "Let's check how well our model performs on unseen data.\n"
   ]
  },
  {
   "cell_type": "code",
   "execution_count": 6,
   "id": "e7bdea92-2288-44d2-afa3-c808b84a591c",
   "metadata": {},
   "outputs": [
    {
     "name": "stdout",
     "output_type": "stream",
     "text": [
      "Predicted label: Negative\n"
     ]
    }
   ],
   "source": [
    "model.eval()\n",
    "sample = \"The movie was absolutely wonderful, full of great performances.\"\n",
    "inputs = tokenizer(sample, return_tensors=\"pt\", truncation=True, padding=True).to(device)\n",
    "with torch.no_grad():\n",
    "    outputs = model(**inputs)\n",
    "    prediction = torch.argmax(outputs.logits, dim=1).item()\n",
    "\n",
    "print(\"Predicted label:\", \"Positive\" if prediction == 1 else \"Negative\")\n"
   ]
  },
  {
   "cell_type": "markdown",
   "id": "948e3af8-17cb-456e-a7b6-ede05fcd159a",
   "metadata": {},
   "source": [
    "# Section 2: Text Summarization using T5\n",
    "\n",
    "The **T5 model (Text-To-Text Transfer Transformer)** treats every NLP task as a text-to-text problem.\n",
    "We’ll use `t5-small` to generate summaries for input text.\n",
    "\n",
    "Steps:\n",
    "1. Load tokenizer and model\n",
    "2. Prepare input text with the prefix `\"summarize: \"`\n",
    "3. Generate summary using greedy or beam search decoding\n"
   ]
  },
  {
   "cell_type": "code",
   "execution_count": 7,
   "id": "2770faae-7bff-461b-a2a1-1619a59e71b3",
   "metadata": {},
   "outputs": [
    {
     "name": "stderr",
     "output_type": "stream",
     "text": [
      "You are using the default legacy behaviour of the <class 'transformers.models.t5.tokenization_t5.T5Tokenizer'>. This is expected, and simply means that the `legacy` (previous) behavior will be used so nothing changes for you. If you want to use the new behaviour, set `legacy=False`. This should only be set if you understand what it means, and thoroughly read the reason why this was added as explained in https://github.com/huggingface/transformers/pull/24565\n"
     ]
    },
    {
     "name": "stdout",
     "output_type": "stream",
     "text": [
      "Summary:\n",
      " AI is transforming industries by automating processes, enhancing decision-making, and unlocking new levels of efficiency.\n"
     ]
    }
   ],
   "source": [
    "t5_tokenizer = T5Tokenizer.from_pretrained(\"t5-small\")\n",
    "t5_model = T5ForConditionalGeneration.from_pretrained(\"t5-small\").to(device)\n",
    "\n",
    "text = \"\"\"\n",
    "Artificial Intelligence (AI) is transforming industries by automating processes, \n",
    "enhancing decision-making, and unlocking new levels of efficiency.\n",
    "\"\"\"\n",
    "\n",
    "input_text = \"summarize: \" + text\n",
    "inputs = t5_tokenizer(input_text, return_tensors=\"pt\", truncation=True, padding=True).to(device)\n",
    "\n",
    "summary_ids = t5_model.generate(\n",
    "    inputs[\"input_ids\"],\n",
    "    num_beams=4,\n",
    "    max_length=60,\n",
    "    early_stopping=True\n",
    ")\n",
    "\n",
    "summary = t5_tokenizer.decode(summary_ids[0], skip_special_tokens=True)\n",
    "print(\"Summary:\\n\", summary)\n"
   ]
  },
  {
   "cell_type": "markdown",
   "id": "fdfe976b-9889-48a3-a9a9-b9c5cb7e5407",
   "metadata": {},
   "source": [
    "# Section 3: Question Answering using DistilBERT\n",
    "\n",
    "DistilBERT is a lightweight version of BERT that retains 95% of its performance with fewer parameters.\n",
    "\n",
    "We’ll use `distilbert-base-uncased-distilled-squad` for extractive question answering.\n"
   ]
  },
  {
   "cell_type": "code",
   "execution_count": 8,
   "id": "188810ef-d4b4-4a6e-86cd-fff5b12a6939",
   "metadata": {},
   "outputs": [
    {
     "name": "stdout",
     "output_type": "stream",
     "text": [
      "WARNING:tensorflow:From C:\\Users\\ksiri\\anaconda3\\envs\\sparkenv\\lib\\site-packages\\tf_keras\\src\\losses.py:2976: The name tf.losses.sparse_softmax_cross_entropy is deprecated. Please use tf.compat.v1.losses.sparse_softmax_cross_entropy instead.\n",
      "\n"
     ]
    },
    {
     "name": "stderr",
     "output_type": "stream",
     "text": [
      "Device set to use cpu\n"
     ]
    },
    {
     "name": "stdout",
     "output_type": "stream",
     "text": [
      "Answer: 1887 to 1889 (score: 0.596)\n"
     ]
    }
   ],
   "source": [
    "from transformers import pipeline\n",
    "\n",
    "qa_model = pipeline(\"question-answering\", model=\"distilbert-base-uncased-distilled-squad\")\n",
    "\n",
    "context = \"\"\"\n",
    "The Eiffel Tower is a wrought-iron lattice tower in Paris, France. \n",
    "It was constructed from 1887 to 1889 and named after engineer Gustave Eiffel.\n",
    "\"\"\"\n",
    "\n",
    "question = \"When was the Eiffel Tower constructed?\"\n",
    "\n",
    "result = qa_model(question=question, context=context)\n",
    "print(f\"Answer: {result['answer']} (score: {result['score']:.3f})\")\n"
   ]
  },
  {
   "cell_type": "markdown",
   "id": "5892b7e5-009f-4156-aa53-bd2e7d38e3d4",
   "metadata": {},
   "source": [
    "# Summary\n",
    "\n",
    "In this notebook, you:\n",
    "- Learned the fundamentals of Transformer architecture.\n",
    "- Fine-tuned **BERT** manually for sentiment classification.\n",
    "- Used **T5** for text summarization.\n",
    "- Applied **DistilBERT** for extractive question answering.\n",
    "\n",
    "### Key Takeaways\n",
    "- Transformers rely on **self-attention** for context understanding.\n",
    "- Pre-trained models like BERT and T5 can be fine-tuned for multiple NLP tasks.\n",
    "- Manual training gives deeper insight into model optimization steps.\n",
    "\n",
    "Next Steps:\n",
    "- Experiment with your own datasets.\n",
    "- Explore more advanced models (RoBERTa, GPT-Neo, Falcon, Mistral).\n",
    "- Integrate these models into Retrieval-Augmented Generation (RAG) pipelines.\n"
   ]
  },
  {
   "cell_type": "code",
   "execution_count": null,
   "id": "cfde4021-7eb3-4706-9161-219c35c02df9",
   "metadata": {},
   "outputs": [],
   "source": []
  }
 ],
 "metadata": {
  "kernelspec": {
   "display_name": "Python 3 (ipykernel)",
   "language": "python",
   "name": "python3"
  },
  "language_info": {
   "codemirror_mode": {
    "name": "ipython",
    "version": 3
   },
   "file_extension": ".py",
   "mimetype": "text/x-python",
   "name": "python",
   "nbconvert_exporter": "python",
   "pygments_lexer": "ipython3",
   "version": "3.10.18"
  }
 },
 "nbformat": 4,
 "nbformat_minor": 5
}
